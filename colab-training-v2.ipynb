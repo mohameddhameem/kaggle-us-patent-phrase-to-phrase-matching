{
  "cells": [
    {
      "cell_type": "markdown",
      "metadata": {
        "id": "view-in-github",
        "colab_type": "text"
      },
      "source": [
        "<a href=\"https://colab.research.google.com/github/mohameddhameem/kaggle-us-patent-phrase-to-phrase-matching/blob/master/colab-training-v2.ipynb\" target=\"_parent\"><img src=\"https://colab.research.google.com/assets/colab-badge.svg\" alt=\"Open In Colab\"/></a>"
      ]
    },
    {
      "cell_type": "code",
      "execution_count": 1,
      "metadata": {
        "colab": {
          "base_uri": "https://localhost:8080/"
        },
        "id": "5om5P901H0Ic",
        "outputId": "720f02cb-ccfa-4f69-eeaa-117cca684e50"
      },
      "outputs": [
        {
          "output_type": "stream",
          "name": "stdout",
          "text": [
            "\u001b[K     |████████████████████████████████| 4.2 MB 5.4 MB/s \n",
            "\u001b[K     |████████████████████████████████| 84 kB 2.2 MB/s \n",
            "\u001b[K     |████████████████████████████████| 596 kB 52.7 MB/s \n",
            "\u001b[K     |████████████████████████████████| 6.6 MB 13.5 MB/s \n",
            "\u001b[?25h"
          ]
        }
      ],
      "source": [
        "!pip install -q transformers"
      ]
    },
    {
      "cell_type": "code",
      "execution_count": 2,
      "metadata": {
        "id": "q2v6ln_oH0Ih"
      },
      "outputs": [],
      "source": [
        "import pandas as pd\n",
        "import numpy as np\n",
        "import math\n",
        "import os\n",
        "import random\n",
        "from scipy import stats\n",
        "from sklearn.model_selection import StratifiedKFold\n",
        "\n",
        "import tensorflow as tf\n",
        "from tensorflow.keras import backend as K\n",
        "#import tensorflow_addons as tfa\n",
        "\n",
        "import transformers\n",
        "\n",
        "import warnings\n",
        "warnings.filterwarnings(\"ignore\") \n",
        "\n",
        "os.environ['TF_CPP_MIN_LOG_LEVEL'] = '3' "
      ]
    },
    {
      "cell_type": "markdown",
      "metadata": {
        "id": "TV7xHiygH0Ii"
      },
      "source": [
        "### Setup TPU or GPU for training"
      ]
    },
    {
      "cell_type": "code",
      "execution_count": 3,
      "metadata": {
        "colab": {
          "base_uri": "https://localhost:8080/"
        },
        "id": "7JA_O0A9H0Il",
        "outputId": "d360500e-6913-4868-8933-a203640ec155"
      },
      "outputs": [
        {
          "output_type": "stream",
          "name": "stdout",
          "text": [
            "we are using Tensorflow version  2.8.0\n",
            "we are running on CPU. switch to GPU for full training\n",
            "INFO:tensorflow:Deallocate tpu buffers before initializing tpu system.\n"
          ]
        },
        {
          "output_type": "stream",
          "name": "stderr",
          "text": [
            "INFO:tensorflow:Deallocate tpu buffers before initializing tpu system.\n"
          ]
        },
        {
          "output_type": "stream",
          "name": "stdout",
          "text": [
            "INFO:tensorflow:Initializing the TPU system: grpc://10.77.19.146:8470\n"
          ]
        },
        {
          "output_type": "stream",
          "name": "stderr",
          "text": [
            "INFO:tensorflow:Initializing the TPU system: grpc://10.77.19.146:8470\n"
          ]
        },
        {
          "output_type": "stream",
          "name": "stdout",
          "text": [
            "INFO:tensorflow:Finished initializing TPU system.\n"
          ]
        },
        {
          "output_type": "stream",
          "name": "stderr",
          "text": [
            "INFO:tensorflow:Finished initializing TPU system.\n",
            "WARNING:absl:`tf.distribute.experimental.TPUStrategy` is deprecated, please use  the non experimental symbol `tf.distribute.TPUStrategy` instead.\n"
          ]
        },
        {
          "output_type": "stream",
          "name": "stdout",
          "text": [
            "All devices:  [LogicalDevice(name='/job:worker/replica:0/task:0/device:TPU:0', device_type='TPU'), LogicalDevice(name='/job:worker/replica:0/task:0/device:TPU:1', device_type='TPU'), LogicalDevice(name='/job:worker/replica:0/task:0/device:TPU:2', device_type='TPU'), LogicalDevice(name='/job:worker/replica:0/task:0/device:TPU:3', device_type='TPU'), LogicalDevice(name='/job:worker/replica:0/task:0/device:TPU:4', device_type='TPU'), LogicalDevice(name='/job:worker/replica:0/task:0/device:TPU:5', device_type='TPU'), LogicalDevice(name='/job:worker/replica:0/task:0/device:TPU:6', device_type='TPU'), LogicalDevice(name='/job:worker/replica:0/task:0/device:TPU:7', device_type='TPU')]\n",
            "INFO:tensorflow:Found TPU system:\n"
          ]
        },
        {
          "output_type": "stream",
          "name": "stderr",
          "text": [
            "INFO:tensorflow:Found TPU system:\n"
          ]
        },
        {
          "output_type": "stream",
          "name": "stdout",
          "text": [
            "INFO:tensorflow:*** Num TPU Cores: 8\n"
          ]
        },
        {
          "output_type": "stream",
          "name": "stderr",
          "text": [
            "INFO:tensorflow:*** Num TPU Cores: 8\n"
          ]
        },
        {
          "output_type": "stream",
          "name": "stdout",
          "text": [
            "INFO:tensorflow:*** Num TPU Workers: 1\n"
          ]
        },
        {
          "output_type": "stream",
          "name": "stderr",
          "text": [
            "INFO:tensorflow:*** Num TPU Workers: 1\n"
          ]
        },
        {
          "output_type": "stream",
          "name": "stdout",
          "text": [
            "INFO:tensorflow:*** Num TPU Cores Per Worker: 8\n"
          ]
        },
        {
          "output_type": "stream",
          "name": "stderr",
          "text": [
            "INFO:tensorflow:*** Num TPU Cores Per Worker: 8\n"
          ]
        },
        {
          "output_type": "stream",
          "name": "stdout",
          "text": [
            "INFO:tensorflow:*** Available Device: _DeviceAttributes(/job:localhost/replica:0/task:0/device:CPU:0, CPU, 0, 0)\n"
          ]
        },
        {
          "output_type": "stream",
          "name": "stderr",
          "text": [
            "INFO:tensorflow:*** Available Device: _DeviceAttributes(/job:localhost/replica:0/task:0/device:CPU:0, CPU, 0, 0)\n"
          ]
        },
        {
          "output_type": "stream",
          "name": "stdout",
          "text": [
            "INFO:tensorflow:*** Available Device: _DeviceAttributes(/job:worker/replica:0/task:0/device:CPU:0, CPU, 0, 0)\n"
          ]
        },
        {
          "output_type": "stream",
          "name": "stderr",
          "text": [
            "INFO:tensorflow:*** Available Device: _DeviceAttributes(/job:worker/replica:0/task:0/device:CPU:0, CPU, 0, 0)\n"
          ]
        },
        {
          "output_type": "stream",
          "name": "stdout",
          "text": [
            "INFO:tensorflow:*** Available Device: _DeviceAttributes(/job:worker/replica:0/task:0/device:TPU:0, TPU, 0, 0)\n"
          ]
        },
        {
          "output_type": "stream",
          "name": "stderr",
          "text": [
            "INFO:tensorflow:*** Available Device: _DeviceAttributes(/job:worker/replica:0/task:0/device:TPU:0, TPU, 0, 0)\n"
          ]
        },
        {
          "output_type": "stream",
          "name": "stdout",
          "text": [
            "INFO:tensorflow:*** Available Device: _DeviceAttributes(/job:worker/replica:0/task:0/device:TPU:1, TPU, 0, 0)\n"
          ]
        },
        {
          "output_type": "stream",
          "name": "stderr",
          "text": [
            "INFO:tensorflow:*** Available Device: _DeviceAttributes(/job:worker/replica:0/task:0/device:TPU:1, TPU, 0, 0)\n"
          ]
        },
        {
          "output_type": "stream",
          "name": "stdout",
          "text": [
            "INFO:tensorflow:*** Available Device: _DeviceAttributes(/job:worker/replica:0/task:0/device:TPU:2, TPU, 0, 0)\n"
          ]
        },
        {
          "output_type": "stream",
          "name": "stderr",
          "text": [
            "INFO:tensorflow:*** Available Device: _DeviceAttributes(/job:worker/replica:0/task:0/device:TPU:2, TPU, 0, 0)\n"
          ]
        },
        {
          "output_type": "stream",
          "name": "stdout",
          "text": [
            "INFO:tensorflow:*** Available Device: _DeviceAttributes(/job:worker/replica:0/task:0/device:TPU:3, TPU, 0, 0)\n"
          ]
        },
        {
          "output_type": "stream",
          "name": "stderr",
          "text": [
            "INFO:tensorflow:*** Available Device: _DeviceAttributes(/job:worker/replica:0/task:0/device:TPU:3, TPU, 0, 0)\n"
          ]
        },
        {
          "output_type": "stream",
          "name": "stdout",
          "text": [
            "INFO:tensorflow:*** Available Device: _DeviceAttributes(/job:worker/replica:0/task:0/device:TPU:4, TPU, 0, 0)\n"
          ]
        },
        {
          "output_type": "stream",
          "name": "stderr",
          "text": [
            "INFO:tensorflow:*** Available Device: _DeviceAttributes(/job:worker/replica:0/task:0/device:TPU:4, TPU, 0, 0)\n"
          ]
        },
        {
          "output_type": "stream",
          "name": "stdout",
          "text": [
            "INFO:tensorflow:*** Available Device: _DeviceAttributes(/job:worker/replica:0/task:0/device:TPU:5, TPU, 0, 0)\n"
          ]
        },
        {
          "output_type": "stream",
          "name": "stderr",
          "text": [
            "INFO:tensorflow:*** Available Device: _DeviceAttributes(/job:worker/replica:0/task:0/device:TPU:5, TPU, 0, 0)\n"
          ]
        },
        {
          "output_type": "stream",
          "name": "stdout",
          "text": [
            "INFO:tensorflow:*** Available Device: _DeviceAttributes(/job:worker/replica:0/task:0/device:TPU:6, TPU, 0, 0)\n"
          ]
        },
        {
          "output_type": "stream",
          "name": "stderr",
          "text": [
            "INFO:tensorflow:*** Available Device: _DeviceAttributes(/job:worker/replica:0/task:0/device:TPU:6, TPU, 0, 0)\n"
          ]
        },
        {
          "output_type": "stream",
          "name": "stdout",
          "text": [
            "INFO:tensorflow:*** Available Device: _DeviceAttributes(/job:worker/replica:0/task:0/device:TPU:7, TPU, 0, 0)\n"
          ]
        },
        {
          "output_type": "stream",
          "name": "stderr",
          "text": [
            "INFO:tensorflow:*** Available Device: _DeviceAttributes(/job:worker/replica:0/task:0/device:TPU:7, TPU, 0, 0)\n"
          ]
        },
        {
          "output_type": "stream",
          "name": "stdout",
          "text": [
            "INFO:tensorflow:*** Available Device: _DeviceAttributes(/job:worker/replica:0/task:0/device:TPU_SYSTEM:0, TPU_SYSTEM, 0, 0)\n"
          ]
        },
        {
          "output_type": "stream",
          "name": "stderr",
          "text": [
            "INFO:tensorflow:*** Available Device: _DeviceAttributes(/job:worker/replica:0/task:0/device:TPU_SYSTEM:0, TPU_SYSTEM, 0, 0)\n"
          ]
        },
        {
          "output_type": "stream",
          "name": "stdout",
          "text": [
            "INFO:tensorflow:*** Available Device: _DeviceAttributes(/job:worker/replica:0/task:0/device:XLA_CPU:0, XLA_CPU, 0, 0)\n"
          ]
        },
        {
          "output_type": "stream",
          "name": "stderr",
          "text": [
            "INFO:tensorflow:*** Available Device: _DeviceAttributes(/job:worker/replica:0/task:0/device:XLA_CPU:0, XLA_CPU, 0, 0)\n"
          ]
        },
        {
          "output_type": "stream",
          "name": "stdout",
          "text": [
            "Strategy: <tensorflow.python.distribute.distribute_lib._CurrentDistributionContext object at 0x7fbe80b2e190>\n"
          ]
        }
      ],
      "source": [
        "print(\"we are using Tensorflow version \", tf.__version__)\n",
        "if tf.test.gpu_device_name():\n",
        "    print('Default GPU Device: {}'.format(tf.test.gpu_device_name()))\n",
        "else:\n",
        "    print(\"we are running on CPU. switch to GPU for full training\")\n",
        "\n",
        "try:\n",
        "  resolver = tf.distribute.cluster_resolver.TPUClusterResolver()\n",
        "  tf.config.experimental_connect_to_cluster(resolver)\n",
        "  tf.tpu.experimental.initialize_tpu_system(resolver)\n",
        "  print(\"All devices: \", tf.config.list_logical_devices('TPU'))\n",
        "  strategy = tf.distribute.experimental.TPUStrategy(resolver)\n",
        "except ValueError:\n",
        "    print(\"No TPU detected. Running on CPU\")\n",
        "    strategy = tf.distribute.get_strategy() \n",
        "\n",
        "print('Strategy:', strategy.scope())"
      ]
    },
    {
      "cell_type": "code",
      "execution_count": 6,
      "metadata": {
        "id": "SoCgUVDrH0In"
      },
      "outputs": [],
      "source": [
        "# read csv files in the us-patent-phrase-to-phrase-matching\n",
        "# directory and store them in a list\n",
        "path = 'us-patent-phrase-to-phrase-matching'\n",
        "files = os.listdir(path)\n",
        "# read the csv files\n",
        "df_train = pd.read_csv(path + '/' + 'train.csv')\n",
        "df_test = pd.read_csv(path + '/' + 'test.csv')\n",
        "df_sample = pd.read_csv(path + '/' + 'sample_submission.csv')\n",
        "parsed = {x: [] for x in ['code', 'title', 'section', 'class', 'subclass', 'group', 'main_group']}\n",
        "os.chdir(path)\n",
        "for letter in 'ABCDEFGHY':\n",
        "    file = f'cpc-section-{letter}_20220201.txt'\n",
        "    with open(file) as f:\n",
        "        for line in f:\n",
        "            vals = line.strip().split('\\t')\n",
        "            if len(vals) == 2:\n",
        "                parsed['code'].append(vals[0])\n",
        "                parsed['title'].append(vals[1])\n",
        "            elif len(vals) == 3:\n",
        "                parsed['code'].append(vals[0])\n",
        "                parsed['title'].append(vals[2])\n",
        "for i in range(len(parsed['code'])):\n",
        "    code = parsed['code'][i]\n",
        "    main_group = code.split('/')[-1] if \"/\" in code else None\n",
        "    group = code.split('/')[0][4:] if len(code) >= 5 else None\n",
        "    subclass = code[3] if len(code) >= 4 else None\n",
        "    class_ = code[1:3] if len(code) >= 3 else None\n",
        "    section = code[0] if len(code) >= 1 else None\n",
        "    \n",
        "    parsed['main_group'].append(main_group)\n",
        "    parsed['group'].append(group)\n",
        "    parsed['subclass'].append(subclass)\n",
        "    parsed['class'].append(class_)\n",
        "    parsed['section'].append(section)\n",
        "\n",
        "\n",
        "# merge both dataframes\n",
        "df_codes = pd.DataFrame.from_dict(parsed)\n",
        "codes = df_codes.rename(columns = {\"code\" : \"context\"})\n",
        "train_data=pd.merge(df_train,codes[[\"context\",\"title\"]],on=\"context\",how=\"left\")\n",
        "test_data=pd.merge(df_test,codes[[\"context\",\"title\"]],on=\"context\",how=\"left\")"
      ]
    },
    {
      "cell_type": "code",
      "source": [
        "## Our ownn dataset and model file. Lets declare it\n",
        "# TRAINED_MODEL_PATH = '/content/USPPM-Trained-Model.h5'\n",
        "# BERT_FOR_PATENT = '/kaggle/input/usppm-pretrained-data/kaggle-dataset/bert-for-patents/' # only for inferencing we need this"
      ],
      "metadata": {
        "id": "ZyZhOidlJOhS"
      },
      "execution_count": 5,
      "outputs": []
    },
    {
      "cell_type": "code",
      "source": [
        "from google.colab import drive\n",
        "drive.mount('/content/drive')"
      ],
      "metadata": {
        "colab": {
          "base_uri": "https://localhost:8080/"
        },
        "id": "14FoNK6UOdz1",
        "outputId": "8cdcc240-9b99-4b1f-c99b-2d45fe1928e6"
      },
      "execution_count": 7,
      "outputs": [
        {
          "output_type": "stream",
          "name": "stdout",
          "text": [
            "Mounted at /content/drive\n"
          ]
        }
      ]
    },
    {
      "cell_type": "code",
      "source": [
        "os.listdir('/content/drive/MyDrive/Temp')"
      ],
      "metadata": {
        "colab": {
          "base_uri": "https://localhost:8080/"
        },
        "id": "xnEPhPLuOtnn",
        "outputId": "c285fcd2-7d87-4f3a-c5a7-3f9e2021d1fa"
      },
      "execution_count": 8,
      "outputs": [
        {
          "output_type": "execute_result",
          "data": {
            "text/plain": [
              "['SG5228 - Individual report_1.docx', 'USPPM-Trained-Model.h5']"
            ]
          },
          "metadata": {},
          "execution_count": 8
        }
      ]
    },
    {
      "cell_type": "code",
      "source": [
        "TRAINED_MODEL_PATH = '/content/drive/MyDrive/Temp/USPPM-Trained-Model.h5'"
      ],
      "metadata": {
        "id": "hUMGuY0fPq2e"
      },
      "execution_count": 9,
      "outputs": []
    },
    {
      "cell_type": "code",
      "execution_count": 10,
      "metadata": {
        "id": "vBL8M5s5H0Ip"
      },
      "outputs": [],
      "source": [
        "#TODO - we will enable it after our intial training\n",
        "tf.config.optimizer.set_jit(True) \n",
        "class Config():\n",
        "    seed = 42\n",
        "    epochs = 2 # Original 10\n",
        "    num_folds = 2 # Original 5\n",
        "    max_length = 192 # 192 #96 - working - old 192\n",
        "    batch_size = 64 #64 # 16 working. old 64\n",
        "    learning_rate = 2e-5\n",
        "    weight_decay = 0.01\n",
        "    base_model = \"anferico/bert-for-patents\"\n",
        "    \n",
        "    def __init__(self, **kwargs):\n",
        "        for k, v in kwargs.items():\n",
        "            setattr(self, k, v)"
      ]
    },
    {
      "cell_type": "markdown",
      "metadata": {
        "id": "uOrB-X5jH0Iq"
      },
      "source": [
        "### Build dataset"
      ]
    },
    {
      "cell_type": "code",
      "execution_count": 11,
      "metadata": {
        "id": "Xb1NWbSvH0Ir"
      },
      "outputs": [],
      "source": [
        "def dataset_split(dataset, split_val):\n",
        "    lengths = int(len(dataset) * split_val)\n",
        "    train_data = dataset[:lengths]\n",
        "    valid_data = dataset[lengths:]\n",
        "    return train_data, valid_data\n",
        "\n",
        "\n",
        "def dataset_load(train_data, test_data):\n",
        "    train_data['sep_token'] = '[SEP]'\n",
        "    train_data['cls_token'] = '[CLS]'\n",
        "    train_data['context_token'] = '[' + train_data.context + ']'\n",
        "    context_tokens = list(train_data.context_token.unique())\n",
        "    train_data = train_data.sample(frac=1).reset_index(drop=True)\n",
        "    train_data, valid_data = dataset_split(dataset=train_data, split_val=0.9)\n",
        "    test_data['sep_token'] = '[SEP]'\n",
        "    test_data['cls_token'] = '[CLS]'\n",
        "    test_data['context_token'] = '[' + test_data.context + ']'\n",
        "    return train_data, valid_data, test_data, context_tokens\n",
        "\n",
        "# create a learning rate scheduler\n",
        "\n",
        "def create_learning_rate_scheduler(max_learn_rate=5e-5,\n",
        "                                   end_learn_rate=1e-7,\n",
        "                                   warmup_epoch_count=10,\n",
        "                                   total_epoch_count=90):\n",
        "\n",
        "    def lr_scheduler(epoch):\n",
        "\n",
        "        if epoch < warmup_epoch_count:\n",
        "            res = (max_learn_rate/warmup_epoch_count) * (epoch + 1)\n",
        "        else:\n",
        "            res = max_learn_rate*math.exp(math.log(end_learn_rate/max_learn_rate)*(\n",
        "                epoch-warmup_epoch_count+1)/(total_epoch_count-warmup_epoch_count+1))\n",
        "        return float(res)\n",
        "    learning_rate_scheduler = tf.keras.callbacks.LearningRateScheduler(\n",
        "        lr_scheduler, verbose=1)\n",
        "\n",
        "    return learning_rate_scheduler\n",
        "\n",
        "\n",
        "def encode_text(text,\n",
        "                tokenizer,\n",
        "                max_length):\n",
        "\n",
        "    # With tokenizer's batch_encode_plus batch of both the sentences are\n",
        "    # encoded together and separated by [SEP] token.\n",
        "    encoded = tokenizer.batch_encode_plus(\n",
        "        text,\n",
        "        add_special_tokens=True,\n",
        "        max_length=max_length,\n",
        "        padding='max_length',\n",
        "        truncation=True,\n",
        "        return_attention_mask=True,\n",
        "        return_token_type_ids=True,\n",
        "        return_tensors=\"tf\",\n",
        "    )\n",
        "\n",
        "    # Convert batch of encoded features to numpy array.\n",
        "    input_ids = np.array(encoded[\"input_ids\"], dtype=\"int32\")\n",
        "    attention_masks = np.array(encoded[\"attention_mask\"], dtype=\"int32\")\n",
        "    token_type_ids = np.array(encoded[\"token_type_ids\"], dtype=\"int32\")\n",
        "\n",
        "    return {\n",
        "        \"input_ids\": input_ids,\n",
        "        \"attention_masks\": attention_masks,\n",
        "        \"token_type_ids\": token_type_ids\n",
        "    }"
      ]
    },
    {
      "cell_type": "code",
      "execution_count": 12,
      "metadata": {
        "colab": {
          "base_uri": "https://localhost:8080/"
        },
        "id": "l_MEDXRUH0It",
        "outputId": "0d01d296-9ec8-46a7-ae9e-73997679b265"
      },
      "outputs": [
        {
          "output_type": "stream",
          "name": "stdout",
          "text": [
            "32825 3648 36\n",
            "[0.0, 0.25, 0.5, 0.75, 1.0]\n",
            "['[A47]', '[A61]', '[A62]', '[C01]', '[F16]', '[F24]', '[F28]', '[H01]', '[H04]', '[B23]', '[B41]', '[D03]', '[E03]', '[C08]', '[D01]', '[D21]', '[C07]', '[A45]', '[B01]', '[B08]', '[G04]', '[G06]', '[B65]', '[G16]', '[G01]', '[A41]', '[C23]', '[F23]', '[B25]', '[A63]', '[B28]', '[B63]', '[F04]', '[B60]', '[B32]', '[C09]', '[C02]', '[G03]', '[C10]', '[B61]', '[C21]', '[F42]', '[A23]', '[C11]', '[B29]', '[F02]', '[B62]', '[B64]', '[E21]', '[B24]', '[B22]', '[H05]', '[B27]', '[E04]', '[B21]', '[D06]', '[C04]', '[B05]', '[G02]', '[H03]', '[C06]', '[G11]', '[C12]', '[E02]', '[F15]', '[A46]', '[B66]', '[G07]', '[G08]', '[C22]', '[B44]', '[A01]', '[F03]', '[C25]', '[F22]', '[G05]', '[G21]', '[B07]', '[F41]', '[E01]', '[H02]', '[C13]', '[F01]', '[F27]', '[C14]', '[A44]', '[B67]', '[A24]', '[B02]', '[E05]', '[D05]', '[F25]', '[A43]', '[A22]', '[A21]', '[E06]', '[F21]', '[G10]', '[C03]', '[B81]', '[F17]', '[B03]', '[G09]', '[D04]', '[F26]', '[B31]']\n"
          ]
        }
      ],
      "source": [
        "train_data, valid_data, test_data, context_tokens = dataset_load(train_data, test_data)\n",
        "labels = list(set(train_data[\"score\"].values))\n",
        "labels.sort()\n",
        "\n",
        "print(len(train_data), len(valid_data), len(test_data))\n",
        "print(labels)\n",
        "print(context_tokens)"
      ]
    },
    {
      "cell_type": "code",
      "execution_count": 13,
      "metadata": {
        "colab": {
          "base_uri": "https://localhost:8080/",
          "height": 81,
          "referenced_widgets": [
            "ffe91518d0874d58be9a47d4bba035e7",
            "10fc35529e04460aba140e283824c8a6",
            "82a21ebcb95b4b7cb3832a3a36cffe10",
            "ddae8cddc5364d989ce99184f0a9652d",
            "d9e927ef8c3c45ff849b8bd6192ee67f",
            "8bf5e1d5f9c3450fa32eb93c18a9ce2f",
            "62f2f61a63f547a0977700294c5c8dee",
            "b7e7d2e79dda480eaf006eb5b0daa9a0",
            "011b3089675e45108d30cde9863caa6f",
            "d3ec2cec494641c9a7c9e040aaee2b60",
            "136059b055064ce0aaaba4dc716fa1ef",
            "cf4665453aa84125aa52b765ccf6273e",
            "6d53693fd6154dedbfd9739d41df6ab9",
            "cf12bdcd83934f5791c90726bc457792",
            "216c5293ebc14bab93547d480cf65e43",
            "f5013cc09ad24bd492e616edf7f06e64",
            "255c4b82f3c74be6a8c8cc215add81e9",
            "576da439f6a7482fa47fbe5c439f803f",
            "c55528eec4d843a0b7370067d634e824",
            "b11ae8b82b9842ed9301e15b3d3de624",
            "510e6673b6e4413f9702d8becab6448f",
            "91978f6ff2ca4cd9895a5dd44bba5ec0"
          ]
        },
        "id": "mFWY0uFyH0Iu",
        "outputId": "197c66ba-5806-42eb-baa4-b98d059d05aa"
      },
      "outputs": [
        {
          "output_type": "display_data",
          "data": {
            "text/plain": [
              "Downloading:   0%|          | 0.00/327 [00:00<?, ?B/s]"
            ],
            "application/vnd.jupyter.widget-view+json": {
              "version_major": 2,
              "version_minor": 0,
              "model_id": "ffe91518d0874d58be9a47d4bba035e7"
            }
          },
          "metadata": {}
        },
        {
          "output_type": "display_data",
          "data": {
            "text/plain": [
              "Downloading:   0%|          | 0.00/322k [00:00<?, ?B/s]"
            ],
            "application/vnd.jupyter.widget-view+json": {
              "version_major": 2,
              "version_minor": 0,
              "model_id": "cf4665453aa84125aa52b765ccf6273e"
            }
          },
          "metadata": {}
        }
      ],
      "source": [
        "train_data['title'] = train_data['title'].str.lower()\n",
        "train_data['anchor'] = train_data['anchor'].str.lower()\n",
        "train_data['target'] = train_data['target'].str.lower()\n",
        "# Tokenizer.\n",
        "tokenizer = transformers.AutoTokenizer.from_pretrained(Config.base_model)\n",
        "# Context tokens. \n",
        "train_data['context_token'] = '[' + train_data.context + ']'\n",
        "train_data['sep_token'] = '[SEP]'\n",
        "train_data['cls_token'] = '[CLS]'\n",
        "context_tokens = list(train_data.context_token.unique())\n",
        "tokenizer.add_special_tokens({'additional_special_tokens': context_tokens})\n",
        "\n",
        "# Preparing input text for the model.\n",
        "# We are adding context_token before the context title\n",
        "# to let model learn the context of anchor and target.\n",
        "train_data['text'] = train_data['cls_token'] + \\\n",
        "                    train_data['context_token'] + train_data['title'] + \\\n",
        "                    train_data['sep_token'] + train_data['anchor'] + \\\n",
        "                    train_data['sep_token'] + train_data['target'] + \\\n",
        "                train_data['sep_token']\n",
        "\n",
        "test_data['title'] = test_data['title'].str.lower().str.replace(\";\",\"\")\n",
        "test_data['anchor'] = test_data['anchor'].str.lower()\n",
        "test_data['target'] = test_data['target'].str.lower()\n",
        "\n",
        "test_data['text'] = test_data['title'] + \" \" + test_data['anchor']"
      ]
    },
    {
      "cell_type": "code",
      "execution_count": 14,
      "metadata": {
        "colab": {
          "base_uri": "https://localhost:8080/",
          "height": 513
        },
        "id": "PlPrMsSCH0Iv",
        "outputId": "2b050769-a0fd-4d8c-d27c-8ea5e3d37e50"
      },
      "outputs": [
        {
          "output_type": "execute_result",
          "data": {
            "text/plain": [
              "                 id                  anchor                        target  \\\n",
              "0  9b6df882a9458e0e       insulation sleeve              insulator sleeve   \n",
              "1  17900d6c25dd2840              dna strand  deoxyribonucleic acid strand   \n",
              "2  18bea0632d575905  substituted carboxylic           aromatic carboxylic   \n",
              "3  eee9bc8f2b2d639a       insulation sleeve                  upper heater   \n",
              "4  d49cdbfd269e291d      stability function               family function   \n",
              "\n",
              "  context  score                                            title sep_token  \\\n",
              "0     F28   1.00                         heat exchange in general     [SEP]   \n",
              "1     C07   0.75                                organic chemistry     [SEP]   \n",
              "2     C07   0.50                                organic chemistry     [SEP]   \n",
              "3     D01   0.25  natural or man-made threads or fibres; spinning     [SEP]   \n",
              "4     B60   0.00                              vehicles in general     [SEP]   \n",
              "\n",
              "  cls_token context_token                                               text  \n",
              "0     [CLS]         [F28]  [CLS][F28]heat exchange in general[SEP]insulat...  \n",
              "1     [CLS]         [C07]  [CLS][C07]organic chemistry[SEP]dna strand[SEP...  \n",
              "2     [CLS]         [C07]  [CLS][C07]organic chemistry[SEP]substituted ca...  \n",
              "3     [CLS]         [D01]  [CLS][D01]natural or man-made threads or fibre...  \n",
              "4     [CLS]         [B60]  [CLS][B60]vehicles in general[SEP]stability fu...  "
            ],
            "text/html": [
              "\n",
              "  <div id=\"df-21c59358-28ac-44ca-81b0-7bc8eeac1e24\">\n",
              "    <div class=\"colab-df-container\">\n",
              "      <div>\n",
              "<style scoped>\n",
              "    .dataframe tbody tr th:only-of-type {\n",
              "        vertical-align: middle;\n",
              "    }\n",
              "\n",
              "    .dataframe tbody tr th {\n",
              "        vertical-align: top;\n",
              "    }\n",
              "\n",
              "    .dataframe thead th {\n",
              "        text-align: right;\n",
              "    }\n",
              "</style>\n",
              "<table border=\"1\" class=\"dataframe\">\n",
              "  <thead>\n",
              "    <tr style=\"text-align: right;\">\n",
              "      <th></th>\n",
              "      <th>id</th>\n",
              "      <th>anchor</th>\n",
              "      <th>target</th>\n",
              "      <th>context</th>\n",
              "      <th>score</th>\n",
              "      <th>title</th>\n",
              "      <th>sep_token</th>\n",
              "      <th>cls_token</th>\n",
              "      <th>context_token</th>\n",
              "      <th>text</th>\n",
              "    </tr>\n",
              "  </thead>\n",
              "  <tbody>\n",
              "    <tr>\n",
              "      <th>0</th>\n",
              "      <td>9b6df882a9458e0e</td>\n",
              "      <td>insulation sleeve</td>\n",
              "      <td>insulator sleeve</td>\n",
              "      <td>F28</td>\n",
              "      <td>1.00</td>\n",
              "      <td>heat exchange in general</td>\n",
              "      <td>[SEP]</td>\n",
              "      <td>[CLS]</td>\n",
              "      <td>[F28]</td>\n",
              "      <td>[CLS][F28]heat exchange in general[SEP]insulat...</td>\n",
              "    </tr>\n",
              "    <tr>\n",
              "      <th>1</th>\n",
              "      <td>17900d6c25dd2840</td>\n",
              "      <td>dna strand</td>\n",
              "      <td>deoxyribonucleic acid strand</td>\n",
              "      <td>C07</td>\n",
              "      <td>0.75</td>\n",
              "      <td>organic chemistry</td>\n",
              "      <td>[SEP]</td>\n",
              "      <td>[CLS]</td>\n",
              "      <td>[C07]</td>\n",
              "      <td>[CLS][C07]organic chemistry[SEP]dna strand[SEP...</td>\n",
              "    </tr>\n",
              "    <tr>\n",
              "      <th>2</th>\n",
              "      <td>18bea0632d575905</td>\n",
              "      <td>substituted carboxylic</td>\n",
              "      <td>aromatic carboxylic</td>\n",
              "      <td>C07</td>\n",
              "      <td>0.50</td>\n",
              "      <td>organic chemistry</td>\n",
              "      <td>[SEP]</td>\n",
              "      <td>[CLS]</td>\n",
              "      <td>[C07]</td>\n",
              "      <td>[CLS][C07]organic chemistry[SEP]substituted ca...</td>\n",
              "    </tr>\n",
              "    <tr>\n",
              "      <th>3</th>\n",
              "      <td>eee9bc8f2b2d639a</td>\n",
              "      <td>insulation sleeve</td>\n",
              "      <td>upper heater</td>\n",
              "      <td>D01</td>\n",
              "      <td>0.25</td>\n",
              "      <td>natural or man-made threads or fibres; spinning</td>\n",
              "      <td>[SEP]</td>\n",
              "      <td>[CLS]</td>\n",
              "      <td>[D01]</td>\n",
              "      <td>[CLS][D01]natural or man-made threads or fibre...</td>\n",
              "    </tr>\n",
              "    <tr>\n",
              "      <th>4</th>\n",
              "      <td>d49cdbfd269e291d</td>\n",
              "      <td>stability function</td>\n",
              "      <td>family function</td>\n",
              "      <td>B60</td>\n",
              "      <td>0.00</td>\n",
              "      <td>vehicles in general</td>\n",
              "      <td>[SEP]</td>\n",
              "      <td>[CLS]</td>\n",
              "      <td>[B60]</td>\n",
              "      <td>[CLS][B60]vehicles in general[SEP]stability fu...</td>\n",
              "    </tr>\n",
              "  </tbody>\n",
              "</table>\n",
              "</div>\n",
              "      <button class=\"colab-df-convert\" onclick=\"convertToInteractive('df-21c59358-28ac-44ca-81b0-7bc8eeac1e24')\"\n",
              "              title=\"Convert this dataframe to an interactive table.\"\n",
              "              style=\"display:none;\">\n",
              "        \n",
              "  <svg xmlns=\"http://www.w3.org/2000/svg\" height=\"24px\"viewBox=\"0 0 24 24\"\n",
              "       width=\"24px\">\n",
              "    <path d=\"M0 0h24v24H0V0z\" fill=\"none\"/>\n",
              "    <path d=\"M18.56 5.44l.94 2.06.94-2.06 2.06-.94-2.06-.94-.94-2.06-.94 2.06-2.06.94zm-11 1L8.5 8.5l.94-2.06 2.06-.94-2.06-.94L8.5 2.5l-.94 2.06-2.06.94zm10 10l.94 2.06.94-2.06 2.06-.94-2.06-.94-.94-2.06-.94 2.06-2.06.94z\"/><path d=\"M17.41 7.96l-1.37-1.37c-.4-.4-.92-.59-1.43-.59-.52 0-1.04.2-1.43.59L10.3 9.45l-7.72 7.72c-.78.78-.78 2.05 0 2.83L4 21.41c.39.39.9.59 1.41.59.51 0 1.02-.2 1.41-.59l7.78-7.78 2.81-2.81c.8-.78.8-2.07 0-2.86zM5.41 20L4 18.59l7.72-7.72 1.47 1.35L5.41 20z\"/>\n",
              "  </svg>\n",
              "      </button>\n",
              "      \n",
              "  <style>\n",
              "    .colab-df-container {\n",
              "      display:flex;\n",
              "      flex-wrap:wrap;\n",
              "      gap: 12px;\n",
              "    }\n",
              "\n",
              "    .colab-df-convert {\n",
              "      background-color: #E8F0FE;\n",
              "      border: none;\n",
              "      border-radius: 50%;\n",
              "      cursor: pointer;\n",
              "      display: none;\n",
              "      fill: #1967D2;\n",
              "      height: 32px;\n",
              "      padding: 0 0 0 0;\n",
              "      width: 32px;\n",
              "    }\n",
              "\n",
              "    .colab-df-convert:hover {\n",
              "      background-color: #E2EBFA;\n",
              "      box-shadow: 0px 1px 2px rgba(60, 64, 67, 0.3), 0px 1px 3px 1px rgba(60, 64, 67, 0.15);\n",
              "      fill: #174EA6;\n",
              "    }\n",
              "\n",
              "    [theme=dark] .colab-df-convert {\n",
              "      background-color: #3B4455;\n",
              "      fill: #D2E3FC;\n",
              "    }\n",
              "\n",
              "    [theme=dark] .colab-df-convert:hover {\n",
              "      background-color: #434B5C;\n",
              "      box-shadow: 0px 1px 3px 1px rgba(0, 0, 0, 0.15);\n",
              "      filter: drop-shadow(0px 1px 2px rgba(0, 0, 0, 0.3));\n",
              "      fill: #FFFFFF;\n",
              "    }\n",
              "  </style>\n",
              "\n",
              "      <script>\n",
              "        const buttonEl =\n",
              "          document.querySelector('#df-21c59358-28ac-44ca-81b0-7bc8eeac1e24 button.colab-df-convert');\n",
              "        buttonEl.style.display =\n",
              "          google.colab.kernel.accessAllowed ? 'block' : 'none';\n",
              "\n",
              "        async function convertToInteractive(key) {\n",
              "          const element = document.querySelector('#df-21c59358-28ac-44ca-81b0-7bc8eeac1e24');\n",
              "          const dataTable =\n",
              "            await google.colab.kernel.invokeFunction('convertToInteractive',\n",
              "                                                     [key], {});\n",
              "          if (!dataTable) return;\n",
              "\n",
              "          const docLinkHtml = 'Like what you see? Visit the ' +\n",
              "            '<a target=\"_blank\" href=https://colab.research.google.com/notebooks/data_table.ipynb>data table notebook</a>'\n",
              "            + ' to learn more about interactive tables.';\n",
              "          element.innerHTML = '';\n",
              "          dataTable['output_type'] = 'display_data';\n",
              "          await google.colab.output.renderOutput(dataTable, element);\n",
              "          const docLink = document.createElement('div');\n",
              "          docLink.innerHTML = docLinkHtml;\n",
              "          element.appendChild(docLink);\n",
              "        }\n",
              "      </script>\n",
              "    </div>\n",
              "  </div>\n",
              "  "
            ]
          },
          "metadata": {},
          "execution_count": 14
        }
      ],
      "source": [
        "train_data.head()"
      ]
    },
    {
      "cell_type": "code",
      "execution_count": 15,
      "metadata": {
        "colab": {
          "base_uri": "https://localhost:8080/",
          "height": 513
        },
        "id": "lcr8MAAGH0Iw",
        "outputId": "bdf05f68-7e93-4089-aba4-9d8f3b8e664d"
      },
      "outputs": [
        {
          "output_type": "execute_result",
          "data": {
            "text/plain": [
              "                 id              anchor                         target  \\\n",
              "0  4112d61851461f60            opc drum  inorganic photoconductor drum   \n",
              "1  09e418c93a776564     adjust gas flow              altering gas flow   \n",
              "2  36baf228038e314b      lower trunnion                 lower locating   \n",
              "3  1f37ead645e7f0c8       cap component                  upper portion   \n",
              "4  71a5b6ad068d531f  neural stimulation      artificial neural network   \n",
              "\n",
              "  context                                              title sep_token  \\\n",
              "0     G02                                             optics     [SEP]   \n",
              "1     F23          combustion apparatus combustion processes     [SEP]   \n",
              "2     B60                                vehicles in general     [SEP]   \n",
              "3     D06  treatment of textiles or the like laundering f...     [SEP]   \n",
              "4     H04                   electric communication technique     [SEP]   \n",
              "\n",
              "  cls_token context_token                                               text  \n",
              "0     [CLS]         [G02]                                    optics opc drum  \n",
              "1     [CLS]         [F23]  combustion apparatus combustion processes adju...  \n",
              "2     [CLS]         [B60]                 vehicles in general lower trunnion  \n",
              "3     [CLS]         [D06]  treatment of textiles or the like laundering f...  \n",
              "4     [CLS]         [H04]  electric communication technique neural stimul...  "
            ],
            "text/html": [
              "\n",
              "  <div id=\"df-69ae6a18-ea55-4eb3-bb96-d5accaee729c\">\n",
              "    <div class=\"colab-df-container\">\n",
              "      <div>\n",
              "<style scoped>\n",
              "    .dataframe tbody tr th:only-of-type {\n",
              "        vertical-align: middle;\n",
              "    }\n",
              "\n",
              "    .dataframe tbody tr th {\n",
              "        vertical-align: top;\n",
              "    }\n",
              "\n",
              "    .dataframe thead th {\n",
              "        text-align: right;\n",
              "    }\n",
              "</style>\n",
              "<table border=\"1\" class=\"dataframe\">\n",
              "  <thead>\n",
              "    <tr style=\"text-align: right;\">\n",
              "      <th></th>\n",
              "      <th>id</th>\n",
              "      <th>anchor</th>\n",
              "      <th>target</th>\n",
              "      <th>context</th>\n",
              "      <th>title</th>\n",
              "      <th>sep_token</th>\n",
              "      <th>cls_token</th>\n",
              "      <th>context_token</th>\n",
              "      <th>text</th>\n",
              "    </tr>\n",
              "  </thead>\n",
              "  <tbody>\n",
              "    <tr>\n",
              "      <th>0</th>\n",
              "      <td>4112d61851461f60</td>\n",
              "      <td>opc drum</td>\n",
              "      <td>inorganic photoconductor drum</td>\n",
              "      <td>G02</td>\n",
              "      <td>optics</td>\n",
              "      <td>[SEP]</td>\n",
              "      <td>[CLS]</td>\n",
              "      <td>[G02]</td>\n",
              "      <td>optics opc drum</td>\n",
              "    </tr>\n",
              "    <tr>\n",
              "      <th>1</th>\n",
              "      <td>09e418c93a776564</td>\n",
              "      <td>adjust gas flow</td>\n",
              "      <td>altering gas flow</td>\n",
              "      <td>F23</td>\n",
              "      <td>combustion apparatus combustion processes</td>\n",
              "      <td>[SEP]</td>\n",
              "      <td>[CLS]</td>\n",
              "      <td>[F23]</td>\n",
              "      <td>combustion apparatus combustion processes adju...</td>\n",
              "    </tr>\n",
              "    <tr>\n",
              "      <th>2</th>\n",
              "      <td>36baf228038e314b</td>\n",
              "      <td>lower trunnion</td>\n",
              "      <td>lower locating</td>\n",
              "      <td>B60</td>\n",
              "      <td>vehicles in general</td>\n",
              "      <td>[SEP]</td>\n",
              "      <td>[CLS]</td>\n",
              "      <td>[B60]</td>\n",
              "      <td>vehicles in general lower trunnion</td>\n",
              "    </tr>\n",
              "    <tr>\n",
              "      <th>3</th>\n",
              "      <td>1f37ead645e7f0c8</td>\n",
              "      <td>cap component</td>\n",
              "      <td>upper portion</td>\n",
              "      <td>D06</td>\n",
              "      <td>treatment of textiles or the like laundering f...</td>\n",
              "      <td>[SEP]</td>\n",
              "      <td>[CLS]</td>\n",
              "      <td>[D06]</td>\n",
              "      <td>treatment of textiles or the like laundering f...</td>\n",
              "    </tr>\n",
              "    <tr>\n",
              "      <th>4</th>\n",
              "      <td>71a5b6ad068d531f</td>\n",
              "      <td>neural stimulation</td>\n",
              "      <td>artificial neural network</td>\n",
              "      <td>H04</td>\n",
              "      <td>electric communication technique</td>\n",
              "      <td>[SEP]</td>\n",
              "      <td>[CLS]</td>\n",
              "      <td>[H04]</td>\n",
              "      <td>electric communication technique neural stimul...</td>\n",
              "    </tr>\n",
              "  </tbody>\n",
              "</table>\n",
              "</div>\n",
              "      <button class=\"colab-df-convert\" onclick=\"convertToInteractive('df-69ae6a18-ea55-4eb3-bb96-d5accaee729c')\"\n",
              "              title=\"Convert this dataframe to an interactive table.\"\n",
              "              style=\"display:none;\">\n",
              "        \n",
              "  <svg xmlns=\"http://www.w3.org/2000/svg\" height=\"24px\"viewBox=\"0 0 24 24\"\n",
              "       width=\"24px\">\n",
              "    <path d=\"M0 0h24v24H0V0z\" fill=\"none\"/>\n",
              "    <path d=\"M18.56 5.44l.94 2.06.94-2.06 2.06-.94-2.06-.94-.94-2.06-.94 2.06-2.06.94zm-11 1L8.5 8.5l.94-2.06 2.06-.94-2.06-.94L8.5 2.5l-.94 2.06-2.06.94zm10 10l.94 2.06.94-2.06 2.06-.94-2.06-.94-.94-2.06-.94 2.06-2.06.94z\"/><path d=\"M17.41 7.96l-1.37-1.37c-.4-.4-.92-.59-1.43-.59-.52 0-1.04.2-1.43.59L10.3 9.45l-7.72 7.72c-.78.78-.78 2.05 0 2.83L4 21.41c.39.39.9.59 1.41.59.51 0 1.02-.2 1.41-.59l7.78-7.78 2.81-2.81c.8-.78.8-2.07 0-2.86zM5.41 20L4 18.59l7.72-7.72 1.47 1.35L5.41 20z\"/>\n",
              "  </svg>\n",
              "      </button>\n",
              "      \n",
              "  <style>\n",
              "    .colab-df-container {\n",
              "      display:flex;\n",
              "      flex-wrap:wrap;\n",
              "      gap: 12px;\n",
              "    }\n",
              "\n",
              "    .colab-df-convert {\n",
              "      background-color: #E8F0FE;\n",
              "      border: none;\n",
              "      border-radius: 50%;\n",
              "      cursor: pointer;\n",
              "      display: none;\n",
              "      fill: #1967D2;\n",
              "      height: 32px;\n",
              "      padding: 0 0 0 0;\n",
              "      width: 32px;\n",
              "    }\n",
              "\n",
              "    .colab-df-convert:hover {\n",
              "      background-color: #E2EBFA;\n",
              "      box-shadow: 0px 1px 2px rgba(60, 64, 67, 0.3), 0px 1px 3px 1px rgba(60, 64, 67, 0.15);\n",
              "      fill: #174EA6;\n",
              "    }\n",
              "\n",
              "    [theme=dark] .colab-df-convert {\n",
              "      background-color: #3B4455;\n",
              "      fill: #D2E3FC;\n",
              "    }\n",
              "\n",
              "    [theme=dark] .colab-df-convert:hover {\n",
              "      background-color: #434B5C;\n",
              "      box-shadow: 0px 1px 3px 1px rgba(0, 0, 0, 0.15);\n",
              "      filter: drop-shadow(0px 1px 2px rgba(0, 0, 0, 0.3));\n",
              "      fill: #FFFFFF;\n",
              "    }\n",
              "  </style>\n",
              "\n",
              "      <script>\n",
              "        const buttonEl =\n",
              "          document.querySelector('#df-69ae6a18-ea55-4eb3-bb96-d5accaee729c button.colab-df-convert');\n",
              "        buttonEl.style.display =\n",
              "          google.colab.kernel.accessAllowed ? 'block' : 'none';\n",
              "\n",
              "        async function convertToInteractive(key) {\n",
              "          const element = document.querySelector('#df-69ae6a18-ea55-4eb3-bb96-d5accaee729c');\n",
              "          const dataTable =\n",
              "            await google.colab.kernel.invokeFunction('convertToInteractive',\n",
              "                                                     [key], {});\n",
              "          if (!dataTable) return;\n",
              "\n",
              "          const docLinkHtml = 'Like what you see? Visit the ' +\n",
              "            '<a target=\"_blank\" href=https://colab.research.google.com/notebooks/data_table.ipynb>data table notebook</a>'\n",
              "            + ' to learn more about interactive tables.';\n",
              "          element.innerHTML = '';\n",
              "          dataTable['output_type'] = 'display_data';\n",
              "          await google.colab.output.renderOutput(dataTable, element);\n",
              "          const docLink = document.createElement('div');\n",
              "          docLink.innerHTML = docLinkHtml;\n",
              "          element.appendChild(docLink);\n",
              "        }\n",
              "      </script>\n",
              "    </div>\n",
              "  </div>\n",
              "  "
            ]
          },
          "metadata": {},
          "execution_count": 15
        }
      ],
      "source": [
        "test_data.head()"
      ]
    },
    {
      "cell_type": "code",
      "execution_count": 16,
      "metadata": {
        "id": "xsTf2Rz2H0Iw"
      },
      "outputs": [],
      "source": [
        "encoded_test_data = encode_text(test_data[[\"text\", \"target\"]].values.tolist(), tokenizer, Config.max_length)"
      ]
    },
    {
      "cell_type": "code",
      "execution_count": 17,
      "metadata": {
        "colab": {
          "base_uri": "https://localhost:8080/"
        },
        "id": "uQTzqbhYH0Ix",
        "outputId": "d44950bf-e0c9-4a6b-9889-eadec2b14675"
      },
      "outputs": [
        {
          "output_type": "stream",
          "name": "stdout",
          "text": [
            "[    2 20691  6393  1943  6608     3 27921  5967  8328  8231 16426  6608\n",
            "     3     0     0     0     0     0     0     0     0     0     0     0\n",
            "     0     0     0     0     0     0     0     0     0     0     0     0\n",
            "     0     0     0     0     0     0     0     0     0     0     0     0\n",
            "     0     0     0     0     0     0     0     0     0     0     0     0\n",
            "     0     0     0     0     0     0     0     0     0     0     0     0\n",
            "     0     0     0     0     0     0     0     0     0     0     0     0\n",
            "     0     0     0     0     0     0     0     0     0     0     0     0\n",
            "     0     0     0     0     0     0     0     0     0     0     0     0\n",
            "     0     0     0     0     0     0     0     0     0     0     0     0\n",
            "     0     0     0     0     0     0     0     0     0     0     0     0\n",
            "     0     0     0     0     0     0     0     0     0     0     0     0\n",
            "     0     0     0     0     0     0     0     0     0     0     0     0\n",
            "     0     0     0     0     0     0     0     0     0     0     0     0\n",
            "     0     0     0     0     0     0     0     0     0     0     0     0\n",
            "     0     0     0     0     0     0     0     0     0     0     0     0]\n",
            "[1 1 1 1 1 1 1 1 1 1 1 1 1 0 0 0 0 0 0 0 0 0 0 0 0 0 0 0 0 0 0 0 0 0 0 0 0\n",
            " 0 0 0 0 0 0 0 0 0 0 0 0 0 0 0 0 0 0 0 0 0 0 0 0 0 0 0 0 0 0 0 0 0 0 0 0 0\n",
            " 0 0 0 0 0 0 0 0 0 0 0 0 0 0 0 0 0 0 0 0 0 0 0 0 0 0 0 0 0 0 0 0 0 0 0 0 0\n",
            " 0 0 0 0 0 0 0 0 0 0 0 0 0 0 0 0 0 0 0 0 0 0 0 0 0 0 0 0 0 0 0 0 0 0 0 0 0\n",
            " 0 0 0 0 0 0 0 0 0 0 0 0 0 0 0 0 0 0 0 0 0 0 0 0 0 0 0 0 0 0 0 0 0 0 0 0 0\n",
            " 0 0 0 0 0 0 0]\n",
            "[0 0 0 0 0 0 1 1 1 1 1 1 1 0 0 0 0 0 0 0 0 0 0 0 0 0 0 0 0 0 0 0 0 0 0 0 0\n",
            " 0 0 0 0 0 0 0 0 0 0 0 0 0 0 0 0 0 0 0 0 0 0 0 0 0 0 0 0 0 0 0 0 0 0 0 0 0\n",
            " 0 0 0 0 0 0 0 0 0 0 0 0 0 0 0 0 0 0 0 0 0 0 0 0 0 0 0 0 0 0 0 0 0 0 0 0 0\n",
            " 0 0 0 0 0 0 0 0 0 0 0 0 0 0 0 0 0 0 0 0 0 0 0 0 0 0 0 0 0 0 0 0 0 0 0 0 0\n",
            " 0 0 0 0 0 0 0 0 0 0 0 0 0 0 0 0 0 0 0 0 0 0 0 0 0 0 0 0 0 0 0 0 0 0 0 0 0\n",
            " 0 0 0 0 0 0 0]\n"
          ]
        }
      ],
      "source": [
        "print(encoded_test_data[\"input_ids\"][0])\n",
        "print(encoded_test_data[\"attention_masks\"][0])\n",
        "print(encoded_test_data[\"token_type_ids\"][0])"
      ]
    },
    {
      "cell_type": "code",
      "execution_count": 18,
      "metadata": {
        "colab": {
          "base_uri": "https://localhost:8080/"
        },
        "id": "2r-wc3zXH0Iy",
        "outputId": "4087caf9-92ff-41c1-f90b-05c70b71db8d"
      },
      "outputs": [
        {
          "output_type": "stream",
          "name": "stdout",
          "text": [
            "test x shape :  (36, 192) (36, 192) (36, 192)\n"
          ]
        }
      ],
      "source": [
        "test_x = [encoded_test_data[\"input_ids\"], encoded_test_data[\"attention_masks\"], encoded_test_data[\"token_type_ids\"]]\n",
        "print(\"test x shape : \", test_x[0].shape, test_x[1].shape, test_x[2].shape)"
      ]
    },
    {
      "cell_type": "code",
      "execution_count": 19,
      "metadata": {
        "id": "YT4G5KDYH0Iy"
      },
      "outputs": [],
      "source": [
        "def build_model(config):\n",
        "    # Create the model under a distribution strategy scope.\n",
        "    with strategy.scope():\n",
        "        # Encoded token ids from BERT tokenizer.\n",
        "        input_ids = tf.keras.layers.Input(\n",
        "            shape=(config.max_length,), dtype=tf.int32, name=\"input_ids\"\n",
        "        )\n",
        "        # Attention masks indicates to the model which tokens should be attended to.\n",
        "        attention_masks = tf.keras.layers.Input(\n",
        "            shape=(config.max_length,), dtype=tf.int32, name=\"attention_masks\"\n",
        "        )\n",
        "        # Token type ids are binary masks identifying different sequences in the model.\n",
        "        token_type_ids = tf.keras.layers.Input(\n",
        "            shape=(config.max_length,), dtype=tf.int32, name=\"token_type_ids\"\n",
        "        )\n",
        "        # Loading pretrained BERT model.\n",
        "        base_model = transformers.TFAutoModel.from_pretrained(config.base_model, from_pt=True)\n",
        "\n",
        "        base_model_output = base_model(\n",
        "            input_ids, attention_mask=attention_masks, token_type_ids=token_type_ids\n",
        "        )\n",
        "\n",
        "        last_hidden_state = base_model_output.last_hidden_state\n",
        "        avg_pool = tf.keras.layers.GlobalAveragePooling1D()(last_hidden_state)\n",
        "        dropout = tf.keras.layers.Dropout(0.3)(avg_pool)\n",
        "\n",
        "        output = tf.keras.layers.Dense(1, activation=\"sigmoid\")(dropout)\n",
        "\n",
        "        model = tf.keras.models.Model(\n",
        "            inputs=[input_ids, attention_masks, token_type_ids], outputs=output\n",
        "        )\n",
        "\n",
        "        model.compile(\n",
        "            optimizer = tf.keras.optimizers.Adam(learning_rate=config.learning_rate),\n",
        "            loss=tf.keras.losses.BinaryCrossentropy()\n",
        "        )\n",
        "\n",
        "    return model"
      ]
    },
    {
      "cell_type": "markdown",
      "source": [
        "### Metrics for Competition"
      ],
      "metadata": {
        "id": "XZ0NPrmRL81F"
      }
    },
    {
      "cell_type": "code",
      "source": [
        "class Pearsonr(tf.keras.callbacks.Callback):\n",
        "    def __init__(self, val_data, y_val):\n",
        "        self.val_data = val_data\n",
        "        self.y_val = y_val\n",
        "    def on_epoch_end(self, epoch, logs):\n",
        "        val_preds = self.model.predict(self.val_data, verbose=0)\n",
        "        \n",
        "        val_pearsonr = stats.pearsonr(self.y_val, val_preds.ravel())[0]\n",
        "\n",
        "        print(f\"val_pearsonr: {val_pearsonr:.4f}\\n\")\n",
        "        logs[\"val_pearsonr\"] = val_pearsonr"
      ],
      "metadata": {
        "id": "RNrp-cBsL8EJ"
      },
      "execution_count": 20,
      "outputs": []
    },
    {
      "cell_type": "markdown",
      "source": [
        "### Model K Fold Training\n",
        "Use previously trained weight first"
      ],
      "metadata": {
        "id": "gymdq4e1Kury"
      }
    },
    {
      "cell_type": "code",
      "source": [
        "\n",
        "\n",
        "def train_folds(train, config):\n",
        "    oof = np.zeros(len(train))\n",
        "    pretrained_model_loaded = False\n",
        "    train['score_map'] = train['score'].map({0.00: 0, 0.25: 1, 0.50: 2, 0.75: 3, 1.00: 4})\n",
        "    \n",
        "    skf = StratifiedKFold(n_splits=config.num_folds, \n",
        "                      shuffle=True,\n",
        "                      random_state=config.seed)\n",
        "    \n",
        "    for fold, (train_idx, val_idx) in enumerate(skf.split(train, train['score_map'])):\n",
        "        print(\"*\" * 50)\n",
        "        print(f\"Training fold: {fold+1}\")\n",
        "\n",
        "        train_df = train.loc[train_idx].reset_index(drop=True)\n",
        "        # print(train_df.head(2))\n",
        "        val_df = train.loc[val_idx].reset_index(drop=True)\n",
        "        \n",
        "        # Clear keras session.\n",
        "        K.clear_session()\n",
        "        \n",
        "        train_encoded =  encode_text(train_df[\"text\"].tolist(),\n",
        "                                     tokenizer=tokenizer,\n",
        "                                     max_length=config.max_length)\n",
        "        \n",
        "        val_encoded =  encode_text(val_df[\"text\"].tolist(),\n",
        "                                     tokenizer=tokenizer,\n",
        "                                     max_length=config.max_length)\n",
        "        # Dataloader.\n",
        "        train_data = tf.data.Dataset.from_tensor_slices((train_encoded, train_df['score'].tolist()))\n",
        "        val_data = tf.data.Dataset.from_tensor_slices((val_encoded, val_df['score'].tolist()))\n",
        "\n",
        "        train_data = (\n",
        "                        train_data\n",
        "                        .shuffle(1024)\n",
        "                        .batch(config.batch_size)\n",
        "                        .prefetch(tf.data.AUTOTUNE)\n",
        "                     )\n",
        "        \n",
        "        val_data = (\n",
        "                        val_data\n",
        "                        .batch(config.batch_size)\n",
        "                        .prefetch(tf.data.AUTOTUNE)\n",
        "                    )\n",
        "\n",
        "        # Callbacks.\n",
        "        checkpoint = tf.keras.callbacks.ModelCheckpoint(f'model-{fold+1}.h5',\n",
        "                                                        monitor='val_loss',\n",
        "                                                        mode='min',\n",
        "                                                        save_best_only=True,\n",
        "                                                        save_weights_only=True,\n",
        "                                                        save_freq='epoch',\n",
        "                                                        verbose=1)\n",
        "        \n",
        "        early_stopping = tf.keras.callbacks.EarlyStopping(monitor='val_loss',\n",
        "                                                          mode='min',\n",
        "                                                          patience=3,\n",
        "                                                          verbose=1)\n",
        "        \n",
        "        pearsonr_callback = Pearsonr(val_data, val_df['score'].values)\n",
        "        num_train_steps = int(len(train_df) / config.batch_size * config.epochs)\n",
        "        \n",
        "        # Build and Train model.\n",
        "        model = build_model(config) #, num_train_steps\n",
        "        # for the first time in Colab load the pretrained model\n",
        "        if pretrained_model_loaded == False:\n",
        "          model.load_weights(TRAINED_MODEL_PATH)\n",
        "          pretrained_model_loaded = True\n",
        "          print(\"Our own pretrained model loaded......\")\n",
        "        history = model.fit(\n",
        "                        train_data,\n",
        "                        validation_data=val_data,\n",
        "                        epochs=config.epochs,\n",
        "                        callbacks=[checkpoint, \n",
        "                                   early_stopping, \n",
        "                                   pearsonr_callback],\n",
        "                        verbose=1\n",
        "                    )\n",
        "        \n",
        "        print('\\nLoading best model weights...')\n",
        "        model.load_weights(f'model-{fold+1}.h5')\n",
        "        \n",
        "        print('Predicting OOF...')\n",
        "        oof[val_idx] = model.predict(val_data,\n",
        "                                     batch_size=config.batch_size,\n",
        "                                     verbose=0).reshape(-1)\n",
        "        \n",
        "        \n",
        "        score = stats.pearsonr(val_df['score'].values, oof[val_idx])[0]\n",
        "        print(f'\\nFold {fold + 1}: OOF pearson_r: {score:.4f}')        \n",
        "        print(\"*\" * 25)\n",
        "        \n",
        "    score = stats.pearsonr(train['score'].values, oof)[0]\n",
        "    print(f'\\nOverall OOF pearson_r: {score:.4f}')\n",
        "    return oof"
      ],
      "metadata": {
        "id": "BculjIqkK0cU"
      },
      "execution_count": 21,
      "outputs": []
    },
    {
      "cell_type": "code",
      "execution_count": null,
      "metadata": {
        "colab": {
          "base_uri": "https://localhost:8080/",
          "height": 555,
          "referenced_widgets": [
            "9a867574a2c845d68ae05d047b91cc43",
            "3ec613e4cc5c497ead160013f73a12fb",
            "67fdc3b5b7544e0087c7660561fa28b6",
            "de41c5d996f846e88167b4cc0b20e111",
            "d48db891851e4659873e52528850249b",
            "9485a0e258ad45119023124de47c9cc1",
            "2f34f71f53e34295a68b1b2192e1b0e0",
            "4a1106c01d144cadb76205a5c4b574c6",
            "b192d3a6f16d45cba33ad34b9930f680",
            "9e15a62190d3413a925f8ef6f8bd6e38",
            "5d8e0b8c701f4f708918f7ae98288129"
          ]
        },
        "id": "8nh8nzyiH0Iz",
        "outputId": "4cc5543f-2a12-4522-9f29-510903f12922"
      },
      "outputs": [
        {
          "output_type": "stream",
          "name": "stdout",
          "text": [
            "**************************************************\n",
            "Training fold: 1\n"
          ]
        },
        {
          "output_type": "display_data",
          "data": {
            "text/plain": [
              "Downloading:   0%|          | 0.00/1.29G [00:00<?, ?B/s]"
            ],
            "application/vnd.jupyter.widget-view+json": {
              "version_major": 2,
              "version_minor": 0,
              "model_id": "9a867574a2c845d68ae05d047b91cc43"
            }
          },
          "metadata": {}
        },
        {
          "output_type": "stream",
          "name": "stderr",
          "text": [
            "Some weights of the PyTorch model were not used when initializing the TF 2.0 model TFBertModel: ['cls.seq_relationship.weight', 'cls.predictions.transform.LayerNorm.bias', 'cls.predictions.decoder.bias', 'bert.embeddings.position_ids', 'cls.predictions.bias', 'cls.seq_relationship.bias', 'cls.predictions.transform.dense.weight', 'cls.predictions.decoder.weight', 'cls.predictions.transform.LayerNorm.weight', 'cls.predictions.transform.dense.bias']\n",
            "- This IS expected if you are initializing TFBertModel from a PyTorch model trained on another task or with another architecture (e.g. initializing a TFBertForSequenceClassification model from a BertForPreTraining model).\n",
            "- This IS NOT expected if you are initializing TFBertModel from a PyTorch model that you expect to be exactly identical (e.g. initializing a TFBertForSequenceClassification model from a BertForSequenceClassification model).\n",
            "All the weights of TFBertModel were initialized from the PyTorch model.\n",
            "If your task is similar to the task the model of the checkpoint was trained on, you can already use TFBertModel for predictions without further training.\n"
          ]
        },
        {
          "output_type": "stream",
          "name": "stdout",
          "text": [
            "Our own pretrained model loaded......\n",
            "Epoch 1/2\n",
            "WARNING:tensorflow:Gradients do not exist for variables ['tf_bert_model/bert/pooler/dense/kernel:0', 'tf_bert_model/bert/pooler/dense/bias:0'] when minimizing the loss. If you're using `model.compile()`, did you forget to provide a `loss`argument?\n"
          ]
        },
        {
          "output_type": "stream",
          "name": "stderr",
          "text": [
            "WARNING:tensorflow:Gradients do not exist for variables ['tf_bert_model/bert/pooler/dense/kernel:0', 'tf_bert_model/bert/pooler/dense/bias:0'] when minimizing the loss. If you're using `model.compile()`, did you forget to provide a `loss`argument?\n"
          ]
        },
        {
          "output_type": "stream",
          "name": "stdout",
          "text": [
            "WARNING:tensorflow:Gradients do not exist for variables ['tf_bert_model/bert/pooler/dense/kernel:0', 'tf_bert_model/bert/pooler/dense/bias:0'] when minimizing the loss. If you're using `model.compile()`, did you forget to provide a `loss`argument?\n"
          ]
        },
        {
          "output_type": "stream",
          "name": "stderr",
          "text": [
            "WARNING:tensorflow:Gradients do not exist for variables ['tf_bert_model/bert/pooler/dense/kernel:0', 'tf_bert_model/bert/pooler/dense/bias:0'] when minimizing the loss. If you're using `model.compile()`, did you forget to provide a `loss`argument?\n"
          ]
        },
        {
          "output_type": "stream",
          "name": "stdout",
          "text": [
            "  6/257 [..............................] - ETA: 1:23 - loss: 0.6547WARNING:tensorflow:Callback method `on_train_batch_end` is slow compared to the batch time (batch time: 0.0123s vs `on_train_batch_end` time: 16.4321s). Check your callbacks.\n"
          ]
        },
        {
          "output_type": "stream",
          "name": "stderr",
          "text": [
            "WARNING:tensorflow:Callback method `on_train_batch_end` is slow compared to the batch time (batch time: 0.0123s vs `on_train_batch_end` time: 16.4321s). Check your callbacks.\n"
          ]
        },
        {
          "output_type": "stream",
          "name": "stdout",
          "text": [
            "257/257 [==============================] - ETA: 0s - loss: 0.6570\n",
            "Epoch 1: val_loss improved from inf to 0.65470, saving model to model-1.h5\n",
            "val_pearsonr: 0.2468\n",
            "\n",
            "257/257 [==============================] - 462s 1s/step - loss: 0.6570 - val_loss: 0.6547 - val_pearsonr: 0.2468\n",
            "Epoch 2/2\n",
            "257/257 [==============================] - ETA: 0s - loss: 0.6579\n",
            "Epoch 2: val_loss improved from 0.65470 to 0.65465, saving model to model-1.h5\n",
            "val_pearsonr: 0.2665\n",
            "\n",
            "257/257 [==============================] - 144s 560ms/step - loss: 0.6579 - val_loss: 0.6546 - val_pearsonr: 0.2665\n",
            "\n",
            "Loading best model weights...\n"
          ]
        }
      ],
      "source": [
        "config = Config()\n",
        "oof_preds = train_folds(train_data, config)"
      ]
    },
    {
      "cell_type": "code",
      "execution_count": null,
      "metadata": {
        "id": "_KdR2RYLH0Iz"
      },
      "outputs": [],
      "source": [
        "# load model\n",
        "model.load_weights('model-2.h5')"
      ]
    },
    {
      "cell_type": "code",
      "execution_count": null,
      "metadata": {
        "id": "bWa4C0IxH0I0"
      },
      "outputs": [],
      "source": [
        "# Lets predict the test data.\n",
        "predictions = model.predict(test_x)"
      ]
    },
    {
      "cell_type": "code",
      "execution_count": null,
      "metadata": {
        "id": "38Q0Pv_QH0I0"
      },
      "outputs": [],
      "source": [
        "# Lets read sample submission file.\n",
        "submission = pd.read_csv('sample_submission.csv')\n",
        "submission['score'] = predictions\n",
        "submission['score'] = submission.score.apply(lambda x: 0 if x < 0 else x)\n",
        "submission['score'] = submission.score.apply(lambda x: 1 if x > 1 else x)"
      ]
    },
    {
      "cell_type": "code",
      "execution_count": null,
      "metadata": {
        "id": "19WKauexH0I1",
        "outputId": "1f5e4d8c-7544-4eb5-d550-bac3863449eb"
      },
      "outputs": [
        {
          "data": {
            "text/html": [
              "<div>\n",
              "<style scoped>\n",
              "    .dataframe tbody tr th:only-of-type {\n",
              "        vertical-align: middle;\n",
              "    }\n",
              "\n",
              "    .dataframe tbody tr th {\n",
              "        vertical-align: top;\n",
              "    }\n",
              "\n",
              "    .dataframe thead th {\n",
              "        text-align: right;\n",
              "    }\n",
              "</style>\n",
              "<table border=\"1\" class=\"dataframe\">\n",
              "  <thead>\n",
              "    <tr style=\"text-align: right;\">\n",
              "      <th></th>\n",
              "      <th>id</th>\n",
              "      <th>score</th>\n",
              "    </tr>\n",
              "  </thead>\n",
              "  <tbody>\n",
              "    <tr>\n",
              "      <th>0</th>\n",
              "      <td>4112d61851461f60</td>\n",
              "      <td>0.363815</td>\n",
              "    </tr>\n",
              "    <tr>\n",
              "      <th>1</th>\n",
              "      <td>09e418c93a776564</td>\n",
              "      <td>0.363816</td>\n",
              "    </tr>\n",
              "    <tr>\n",
              "      <th>2</th>\n",
              "      <td>36baf228038e314b</td>\n",
              "      <td>0.363814</td>\n",
              "    </tr>\n",
              "    <tr>\n",
              "      <th>3</th>\n",
              "      <td>1f37ead645e7f0c8</td>\n",
              "      <td>0.363814</td>\n",
              "    </tr>\n",
              "    <tr>\n",
              "      <th>4</th>\n",
              "      <td>71a5b6ad068d531f</td>\n",
              "      <td>0.363816</td>\n",
              "    </tr>\n",
              "    <tr>\n",
              "      <th>5</th>\n",
              "      <td>474c874d0c07bd21</td>\n",
              "      <td>0.363815</td>\n",
              "    </tr>\n",
              "    <tr>\n",
              "      <th>6</th>\n",
              "      <td>442c114ed5c4e3c9</td>\n",
              "      <td>0.363815</td>\n",
              "    </tr>\n",
              "    <tr>\n",
              "      <th>7</th>\n",
              "      <td>b8ae62ea5e1d8bdb</td>\n",
              "      <td>0.363815</td>\n",
              "    </tr>\n",
              "    <tr>\n",
              "      <th>8</th>\n",
              "      <td>faaddaf8fcba8a3f</td>\n",
              "      <td>0.363815</td>\n",
              "    </tr>\n",
              "    <tr>\n",
              "      <th>9</th>\n",
              "      <td>ae0262c02566d2ce</td>\n",
              "      <td>0.363815</td>\n",
              "    </tr>\n",
              "    <tr>\n",
              "      <th>10</th>\n",
              "      <td>a8808e31641e856d</td>\n",
              "      <td>0.363815</td>\n",
              "    </tr>\n",
              "    <tr>\n",
              "      <th>11</th>\n",
              "      <td>16ae4b99d3601e60</td>\n",
              "      <td>0.363815</td>\n",
              "    </tr>\n",
              "    <tr>\n",
              "      <th>12</th>\n",
              "      <td>25c555ca3d5a2092</td>\n",
              "      <td>0.363815</td>\n",
              "    </tr>\n",
              "    <tr>\n",
              "      <th>13</th>\n",
              "      <td>5203a36c501f1b7c</td>\n",
              "      <td>0.363815</td>\n",
              "    </tr>\n",
              "    <tr>\n",
              "      <th>14</th>\n",
              "      <td>b9fdc772bb8fd61c</td>\n",
              "      <td>0.363815</td>\n",
              "    </tr>\n",
              "    <tr>\n",
              "      <th>15</th>\n",
              "      <td>7aa5908a77a7ec24</td>\n",
              "      <td>0.363815</td>\n",
              "    </tr>\n",
              "    <tr>\n",
              "      <th>16</th>\n",
              "      <td>d19ef3979396d47e</td>\n",
              "      <td>0.363815</td>\n",
              "    </tr>\n",
              "    <tr>\n",
              "      <th>17</th>\n",
              "      <td>fd83613b7843f5e1</td>\n",
              "      <td>0.363814</td>\n",
              "    </tr>\n",
              "    <tr>\n",
              "      <th>18</th>\n",
              "      <td>2a619016908bfa45</td>\n",
              "      <td>0.363815</td>\n",
              "    </tr>\n",
              "    <tr>\n",
              "      <th>19</th>\n",
              "      <td>733979d75f59770d</td>\n",
              "      <td>0.363815</td>\n",
              "    </tr>\n",
              "    <tr>\n",
              "      <th>20</th>\n",
              "      <td>6546846df17f9800</td>\n",
              "      <td>0.363815</td>\n",
              "    </tr>\n",
              "    <tr>\n",
              "      <th>21</th>\n",
              "      <td>3ff0e7a35015be69</td>\n",
              "      <td>0.363814</td>\n",
              "    </tr>\n",
              "    <tr>\n",
              "      <th>22</th>\n",
              "      <td>12ca31f018a2e2b9</td>\n",
              "      <td>0.363816</td>\n",
              "    </tr>\n",
              "    <tr>\n",
              "      <th>23</th>\n",
              "      <td>03ba802ed4029e4d</td>\n",
              "      <td>0.363814</td>\n",
              "    </tr>\n",
              "    <tr>\n",
              "      <th>24</th>\n",
              "      <td>c404f8b378cbb008</td>\n",
              "      <td>0.363815</td>\n",
              "    </tr>\n",
              "    <tr>\n",
              "      <th>25</th>\n",
              "      <td>78243984c02a72e4</td>\n",
              "      <td>0.363813</td>\n",
              "    </tr>\n",
              "    <tr>\n",
              "      <th>26</th>\n",
              "      <td>de51114bc0faec3e</td>\n",
              "      <td>0.363815</td>\n",
              "    </tr>\n",
              "    <tr>\n",
              "      <th>27</th>\n",
              "      <td>7e3aff857f056bf9</td>\n",
              "      <td>0.363814</td>\n",
              "    </tr>\n",
              "    <tr>\n",
              "      <th>28</th>\n",
              "      <td>26c3c6dc6174b589</td>\n",
              "      <td>0.363814</td>\n",
              "    </tr>\n",
              "    <tr>\n",
              "      <th>29</th>\n",
              "      <td>b892011ab2e2cabc</td>\n",
              "      <td>0.363816</td>\n",
              "    </tr>\n",
              "    <tr>\n",
              "      <th>30</th>\n",
              "      <td>8247ff562ca185cc</td>\n",
              "      <td>0.363814</td>\n",
              "    </tr>\n",
              "    <tr>\n",
              "      <th>31</th>\n",
              "      <td>c057aecbba832387</td>\n",
              "      <td>0.363815</td>\n",
              "    </tr>\n",
              "    <tr>\n",
              "      <th>32</th>\n",
              "      <td>9f2279ce667b21dc</td>\n",
              "      <td>0.363816</td>\n",
              "    </tr>\n",
              "    <tr>\n",
              "      <th>33</th>\n",
              "      <td>b9ea2b06a878df6f</td>\n",
              "      <td>0.363816</td>\n",
              "    </tr>\n",
              "    <tr>\n",
              "      <th>34</th>\n",
              "      <td>79795133c30ef097</td>\n",
              "      <td>0.363815</td>\n",
              "    </tr>\n",
              "    <tr>\n",
              "      <th>35</th>\n",
              "      <td>25522ee5411e63e9</td>\n",
              "      <td>0.363815</td>\n",
              "    </tr>\n",
              "  </tbody>\n",
              "</table>\n",
              "</div>"
            ],
            "text/plain": [
              "                  id     score\n",
              "0   4112d61851461f60  0.363815\n",
              "1   09e418c93a776564  0.363816\n",
              "2   36baf228038e314b  0.363814\n",
              "3   1f37ead645e7f0c8  0.363814\n",
              "4   71a5b6ad068d531f  0.363816\n",
              "5   474c874d0c07bd21  0.363815\n",
              "6   442c114ed5c4e3c9  0.363815\n",
              "7   b8ae62ea5e1d8bdb  0.363815\n",
              "8   faaddaf8fcba8a3f  0.363815\n",
              "9   ae0262c02566d2ce  0.363815\n",
              "10  a8808e31641e856d  0.363815\n",
              "11  16ae4b99d3601e60  0.363815\n",
              "12  25c555ca3d5a2092  0.363815\n",
              "13  5203a36c501f1b7c  0.363815\n",
              "14  b9fdc772bb8fd61c  0.363815\n",
              "15  7aa5908a77a7ec24  0.363815\n",
              "16  d19ef3979396d47e  0.363815\n",
              "17  fd83613b7843f5e1  0.363814\n",
              "18  2a619016908bfa45  0.363815\n",
              "19  733979d75f59770d  0.363815\n",
              "20  6546846df17f9800  0.363815\n",
              "21  3ff0e7a35015be69  0.363814\n",
              "22  12ca31f018a2e2b9  0.363816\n",
              "23  03ba802ed4029e4d  0.363814\n",
              "24  c404f8b378cbb008  0.363815\n",
              "25  78243984c02a72e4  0.363813\n",
              "26  de51114bc0faec3e  0.363815\n",
              "27  7e3aff857f056bf9  0.363814\n",
              "28  26c3c6dc6174b589  0.363814\n",
              "29  b892011ab2e2cabc  0.363816\n",
              "30  8247ff562ca185cc  0.363814\n",
              "31  c057aecbba832387  0.363815\n",
              "32  9f2279ce667b21dc  0.363816\n",
              "33  b9ea2b06a878df6f  0.363816\n",
              "34  79795133c30ef097  0.363815\n",
              "35  25522ee5411e63e9  0.363815"
            ]
          },
          "execution_count": 30,
          "metadata": {},
          "output_type": "execute_result"
        }
      ],
      "source": [
        "submission.to_csv(\"submission.csv\",index=False)"
      ]
    },
    {
      "cell_type": "code",
      "execution_count": null,
      "metadata": {
        "id": "Oz6zmOZtH0I1"
      },
      "outputs": [],
      "source": [
        ""
      ]
    }
  ],
  "metadata": {
    "interpreter": {
      "hash": "24ffb122db4d293cbce3a5b97151e6069f3c74d2302b3d157e23222a76757a60"
    },
    "kernelspec": {
      "display_name": "Python 3.7.13 ('kaggle-nlp')",
      "language": "python",
      "name": "python3"
    },
    "language_info": {
      "codemirror_mode": {
        "name": "ipython",
        "version": 3
      },
      "file_extension": ".py",
      "mimetype": "text/x-python",
      "name": "python",
      "nbconvert_exporter": "python",
      "pygments_lexer": "ipython3",
      "version": "3.7.13"
    },
    "orig_nbformat": 4,
    "colab": {
      "name": "colab-training-v2.ipynb",
      "provenance": [],
      "include_colab_link": true
    },
    "accelerator": "TPU",
    "widgets": {
      "application/vnd.jupyter.widget-state+json": {
        "ffe91518d0874d58be9a47d4bba035e7": {
          "model_module": "@jupyter-widgets/controls",
          "model_name": "HBoxModel",
          "model_module_version": "1.5.0",
          "state": {
            "_dom_classes": [],
            "_model_module": "@jupyter-widgets/controls",
            "_model_module_version": "1.5.0",
            "_model_name": "HBoxModel",
            "_view_count": null,
            "_view_module": "@jupyter-widgets/controls",
            "_view_module_version": "1.5.0",
            "_view_name": "HBoxView",
            "box_style": "",
            "children": [
              "IPY_MODEL_10fc35529e04460aba140e283824c8a6",
              "IPY_MODEL_82a21ebcb95b4b7cb3832a3a36cffe10",
              "IPY_MODEL_ddae8cddc5364d989ce99184f0a9652d"
            ],
            "layout": "IPY_MODEL_d9e927ef8c3c45ff849b8bd6192ee67f"
          }
        },
        "10fc35529e04460aba140e283824c8a6": {
          "model_module": "@jupyter-widgets/controls",
          "model_name": "HTMLModel",
          "model_module_version": "1.5.0",
          "state": {
            "_dom_classes": [],
            "_model_module": "@jupyter-widgets/controls",
            "_model_module_version": "1.5.0",
            "_model_name": "HTMLModel",
            "_view_count": null,
            "_view_module": "@jupyter-widgets/controls",
            "_view_module_version": "1.5.0",
            "_view_name": "HTMLView",
            "description": "",
            "description_tooltip": null,
            "layout": "IPY_MODEL_8bf5e1d5f9c3450fa32eb93c18a9ce2f",
            "placeholder": "​",
            "style": "IPY_MODEL_62f2f61a63f547a0977700294c5c8dee",
            "value": "Downloading: 100%"
          }
        },
        "82a21ebcb95b4b7cb3832a3a36cffe10": {
          "model_module": "@jupyter-widgets/controls",
          "model_name": "FloatProgressModel",
          "model_module_version": "1.5.0",
          "state": {
            "_dom_classes": [],
            "_model_module": "@jupyter-widgets/controls",
            "_model_module_version": "1.5.0",
            "_model_name": "FloatProgressModel",
            "_view_count": null,
            "_view_module": "@jupyter-widgets/controls",
            "_view_module_version": "1.5.0",
            "_view_name": "ProgressView",
            "bar_style": "success",
            "description": "",
            "description_tooltip": null,
            "layout": "IPY_MODEL_b7e7d2e79dda480eaf006eb5b0daa9a0",
            "max": 327,
            "min": 0,
            "orientation": "horizontal",
            "style": "IPY_MODEL_011b3089675e45108d30cde9863caa6f",
            "value": 327
          }
        },
        "ddae8cddc5364d989ce99184f0a9652d": {
          "model_module": "@jupyter-widgets/controls",
          "model_name": "HTMLModel",
          "model_module_version": "1.5.0",
          "state": {
            "_dom_classes": [],
            "_model_module": "@jupyter-widgets/controls",
            "_model_module_version": "1.5.0",
            "_model_name": "HTMLModel",
            "_view_count": null,
            "_view_module": "@jupyter-widgets/controls",
            "_view_module_version": "1.5.0",
            "_view_name": "HTMLView",
            "description": "",
            "description_tooltip": null,
            "layout": "IPY_MODEL_d3ec2cec494641c9a7c9e040aaee2b60",
            "placeholder": "​",
            "style": "IPY_MODEL_136059b055064ce0aaaba4dc716fa1ef",
            "value": " 327/327 [00:00&lt;00:00, 8.63kB/s]"
          }
        },
        "d9e927ef8c3c45ff849b8bd6192ee67f": {
          "model_module": "@jupyter-widgets/base",
          "model_name": "LayoutModel",
          "model_module_version": "1.2.0",
          "state": {
            "_model_module": "@jupyter-widgets/base",
            "_model_module_version": "1.2.0",
            "_model_name": "LayoutModel",
            "_view_count": null,
            "_view_module": "@jupyter-widgets/base",
            "_view_module_version": "1.2.0",
            "_view_name": "LayoutView",
            "align_content": null,
            "align_items": null,
            "align_self": null,
            "border": null,
            "bottom": null,
            "display": null,
            "flex": null,
            "flex_flow": null,
            "grid_area": null,
            "grid_auto_columns": null,
            "grid_auto_flow": null,
            "grid_auto_rows": null,
            "grid_column": null,
            "grid_gap": null,
            "grid_row": null,
            "grid_template_areas": null,
            "grid_template_columns": null,
            "grid_template_rows": null,
            "height": null,
            "justify_content": null,
            "justify_items": null,
            "left": null,
            "margin": null,
            "max_height": null,
            "max_width": null,
            "min_height": null,
            "min_width": null,
            "object_fit": null,
            "object_position": null,
            "order": null,
            "overflow": null,
            "overflow_x": null,
            "overflow_y": null,
            "padding": null,
            "right": null,
            "top": null,
            "visibility": null,
            "width": null
          }
        },
        "8bf5e1d5f9c3450fa32eb93c18a9ce2f": {
          "model_module": "@jupyter-widgets/base",
          "model_name": "LayoutModel",
          "model_module_version": "1.2.0",
          "state": {
            "_model_module": "@jupyter-widgets/base",
            "_model_module_version": "1.2.0",
            "_model_name": "LayoutModel",
            "_view_count": null,
            "_view_module": "@jupyter-widgets/base",
            "_view_module_version": "1.2.0",
            "_view_name": "LayoutView",
            "align_content": null,
            "align_items": null,
            "align_self": null,
            "border": null,
            "bottom": null,
            "display": null,
            "flex": null,
            "flex_flow": null,
            "grid_area": null,
            "grid_auto_columns": null,
            "grid_auto_flow": null,
            "grid_auto_rows": null,
            "grid_column": null,
            "grid_gap": null,
            "grid_row": null,
            "grid_template_areas": null,
            "grid_template_columns": null,
            "grid_template_rows": null,
            "height": null,
            "justify_content": null,
            "justify_items": null,
            "left": null,
            "margin": null,
            "max_height": null,
            "max_width": null,
            "min_height": null,
            "min_width": null,
            "object_fit": null,
            "object_position": null,
            "order": null,
            "overflow": null,
            "overflow_x": null,
            "overflow_y": null,
            "padding": null,
            "right": null,
            "top": null,
            "visibility": null,
            "width": null
          }
        },
        "62f2f61a63f547a0977700294c5c8dee": {
          "model_module": "@jupyter-widgets/controls",
          "model_name": "DescriptionStyleModel",
          "model_module_version": "1.5.0",
          "state": {
            "_model_module": "@jupyter-widgets/controls",
            "_model_module_version": "1.5.0",
            "_model_name": "DescriptionStyleModel",
            "_view_count": null,
            "_view_module": "@jupyter-widgets/base",
            "_view_module_version": "1.2.0",
            "_view_name": "StyleView",
            "description_width": ""
          }
        },
        "b7e7d2e79dda480eaf006eb5b0daa9a0": {
          "model_module": "@jupyter-widgets/base",
          "model_name": "LayoutModel",
          "model_module_version": "1.2.0",
          "state": {
            "_model_module": "@jupyter-widgets/base",
            "_model_module_version": "1.2.0",
            "_model_name": "LayoutModel",
            "_view_count": null,
            "_view_module": "@jupyter-widgets/base",
            "_view_module_version": "1.2.0",
            "_view_name": "LayoutView",
            "align_content": null,
            "align_items": null,
            "align_self": null,
            "border": null,
            "bottom": null,
            "display": null,
            "flex": null,
            "flex_flow": null,
            "grid_area": null,
            "grid_auto_columns": null,
            "grid_auto_flow": null,
            "grid_auto_rows": null,
            "grid_column": null,
            "grid_gap": null,
            "grid_row": null,
            "grid_template_areas": null,
            "grid_template_columns": null,
            "grid_template_rows": null,
            "height": null,
            "justify_content": null,
            "justify_items": null,
            "left": null,
            "margin": null,
            "max_height": null,
            "max_width": null,
            "min_height": null,
            "min_width": null,
            "object_fit": null,
            "object_position": null,
            "order": null,
            "overflow": null,
            "overflow_x": null,
            "overflow_y": null,
            "padding": null,
            "right": null,
            "top": null,
            "visibility": null,
            "width": null
          }
        },
        "011b3089675e45108d30cde9863caa6f": {
          "model_module": "@jupyter-widgets/controls",
          "model_name": "ProgressStyleModel",
          "model_module_version": "1.5.0",
          "state": {
            "_model_module": "@jupyter-widgets/controls",
            "_model_module_version": "1.5.0",
            "_model_name": "ProgressStyleModel",
            "_view_count": null,
            "_view_module": "@jupyter-widgets/base",
            "_view_module_version": "1.2.0",
            "_view_name": "StyleView",
            "bar_color": null,
            "description_width": ""
          }
        },
        "d3ec2cec494641c9a7c9e040aaee2b60": {
          "model_module": "@jupyter-widgets/base",
          "model_name": "LayoutModel",
          "model_module_version": "1.2.0",
          "state": {
            "_model_module": "@jupyter-widgets/base",
            "_model_module_version": "1.2.0",
            "_model_name": "LayoutModel",
            "_view_count": null,
            "_view_module": "@jupyter-widgets/base",
            "_view_module_version": "1.2.0",
            "_view_name": "LayoutView",
            "align_content": null,
            "align_items": null,
            "align_self": null,
            "border": null,
            "bottom": null,
            "display": null,
            "flex": null,
            "flex_flow": null,
            "grid_area": null,
            "grid_auto_columns": null,
            "grid_auto_flow": null,
            "grid_auto_rows": null,
            "grid_column": null,
            "grid_gap": null,
            "grid_row": null,
            "grid_template_areas": null,
            "grid_template_columns": null,
            "grid_template_rows": null,
            "height": null,
            "justify_content": null,
            "justify_items": null,
            "left": null,
            "margin": null,
            "max_height": null,
            "max_width": null,
            "min_height": null,
            "min_width": null,
            "object_fit": null,
            "object_position": null,
            "order": null,
            "overflow": null,
            "overflow_x": null,
            "overflow_y": null,
            "padding": null,
            "right": null,
            "top": null,
            "visibility": null,
            "width": null
          }
        },
        "136059b055064ce0aaaba4dc716fa1ef": {
          "model_module": "@jupyter-widgets/controls",
          "model_name": "DescriptionStyleModel",
          "model_module_version": "1.5.0",
          "state": {
            "_model_module": "@jupyter-widgets/controls",
            "_model_module_version": "1.5.0",
            "_model_name": "DescriptionStyleModel",
            "_view_count": null,
            "_view_module": "@jupyter-widgets/base",
            "_view_module_version": "1.2.0",
            "_view_name": "StyleView",
            "description_width": ""
          }
        },
        "cf4665453aa84125aa52b765ccf6273e": {
          "model_module": "@jupyter-widgets/controls",
          "model_name": "HBoxModel",
          "model_module_version": "1.5.0",
          "state": {
            "_dom_classes": [],
            "_model_module": "@jupyter-widgets/controls",
            "_model_module_version": "1.5.0",
            "_model_name": "HBoxModel",
            "_view_count": null,
            "_view_module": "@jupyter-widgets/controls",
            "_view_module_version": "1.5.0",
            "_view_name": "HBoxView",
            "box_style": "",
            "children": [
              "IPY_MODEL_6d53693fd6154dedbfd9739d41df6ab9",
              "IPY_MODEL_cf12bdcd83934f5791c90726bc457792",
              "IPY_MODEL_216c5293ebc14bab93547d480cf65e43"
            ],
            "layout": "IPY_MODEL_f5013cc09ad24bd492e616edf7f06e64"
          }
        },
        "6d53693fd6154dedbfd9739d41df6ab9": {
          "model_module": "@jupyter-widgets/controls",
          "model_name": "HTMLModel",
          "model_module_version": "1.5.0",
          "state": {
            "_dom_classes": [],
            "_model_module": "@jupyter-widgets/controls",
            "_model_module_version": "1.5.0",
            "_model_name": "HTMLModel",
            "_view_count": null,
            "_view_module": "@jupyter-widgets/controls",
            "_view_module_version": "1.5.0",
            "_view_name": "HTMLView",
            "description": "",
            "description_tooltip": null,
            "layout": "IPY_MODEL_255c4b82f3c74be6a8c8cc215add81e9",
            "placeholder": "​",
            "style": "IPY_MODEL_576da439f6a7482fa47fbe5c439f803f",
            "value": "Downloading: 100%"
          }
        },
        "cf12bdcd83934f5791c90726bc457792": {
          "model_module": "@jupyter-widgets/controls",
          "model_name": "FloatProgressModel",
          "model_module_version": "1.5.0",
          "state": {
            "_dom_classes": [],
            "_model_module": "@jupyter-widgets/controls",
            "_model_module_version": "1.5.0",
            "_model_name": "FloatProgressModel",
            "_view_count": null,
            "_view_module": "@jupyter-widgets/controls",
            "_view_module_version": "1.5.0",
            "_view_name": "ProgressView",
            "bar_style": "success",
            "description": "",
            "description_tooltip": null,
            "layout": "IPY_MODEL_c55528eec4d843a0b7370067d634e824",
            "max": 329241,
            "min": 0,
            "orientation": "horizontal",
            "style": "IPY_MODEL_b11ae8b82b9842ed9301e15b3d3de624",
            "value": 329241
          }
        },
        "216c5293ebc14bab93547d480cf65e43": {
          "model_module": "@jupyter-widgets/controls",
          "model_name": "HTMLModel",
          "model_module_version": "1.5.0",
          "state": {
            "_dom_classes": [],
            "_model_module": "@jupyter-widgets/controls",
            "_model_module_version": "1.5.0",
            "_model_name": "HTMLModel",
            "_view_count": null,
            "_view_module": "@jupyter-widgets/controls",
            "_view_module_version": "1.5.0",
            "_view_name": "HTMLView",
            "description": "",
            "description_tooltip": null,
            "layout": "IPY_MODEL_510e6673b6e4413f9702d8becab6448f",
            "placeholder": "​",
            "style": "IPY_MODEL_91978f6ff2ca4cd9895a5dd44bba5ec0",
            "value": " 322k/322k [00:00&lt;00:00, 1.36MB/s]"
          }
        },
        "f5013cc09ad24bd492e616edf7f06e64": {
          "model_module": "@jupyter-widgets/base",
          "model_name": "LayoutModel",
          "model_module_version": "1.2.0",
          "state": {
            "_model_module": "@jupyter-widgets/base",
            "_model_module_version": "1.2.0",
            "_model_name": "LayoutModel",
            "_view_count": null,
            "_view_module": "@jupyter-widgets/base",
            "_view_module_version": "1.2.0",
            "_view_name": "LayoutView",
            "align_content": null,
            "align_items": null,
            "align_self": null,
            "border": null,
            "bottom": null,
            "display": null,
            "flex": null,
            "flex_flow": null,
            "grid_area": null,
            "grid_auto_columns": null,
            "grid_auto_flow": null,
            "grid_auto_rows": null,
            "grid_column": null,
            "grid_gap": null,
            "grid_row": null,
            "grid_template_areas": null,
            "grid_template_columns": null,
            "grid_template_rows": null,
            "height": null,
            "justify_content": null,
            "justify_items": null,
            "left": null,
            "margin": null,
            "max_height": null,
            "max_width": null,
            "min_height": null,
            "min_width": null,
            "object_fit": null,
            "object_position": null,
            "order": null,
            "overflow": null,
            "overflow_x": null,
            "overflow_y": null,
            "padding": null,
            "right": null,
            "top": null,
            "visibility": null,
            "width": null
          }
        },
        "255c4b82f3c74be6a8c8cc215add81e9": {
          "model_module": "@jupyter-widgets/base",
          "model_name": "LayoutModel",
          "model_module_version": "1.2.0",
          "state": {
            "_model_module": "@jupyter-widgets/base",
            "_model_module_version": "1.2.0",
            "_model_name": "LayoutModel",
            "_view_count": null,
            "_view_module": "@jupyter-widgets/base",
            "_view_module_version": "1.2.0",
            "_view_name": "LayoutView",
            "align_content": null,
            "align_items": null,
            "align_self": null,
            "border": null,
            "bottom": null,
            "display": null,
            "flex": null,
            "flex_flow": null,
            "grid_area": null,
            "grid_auto_columns": null,
            "grid_auto_flow": null,
            "grid_auto_rows": null,
            "grid_column": null,
            "grid_gap": null,
            "grid_row": null,
            "grid_template_areas": null,
            "grid_template_columns": null,
            "grid_template_rows": null,
            "height": null,
            "justify_content": null,
            "justify_items": null,
            "left": null,
            "margin": null,
            "max_height": null,
            "max_width": null,
            "min_height": null,
            "min_width": null,
            "object_fit": null,
            "object_position": null,
            "order": null,
            "overflow": null,
            "overflow_x": null,
            "overflow_y": null,
            "padding": null,
            "right": null,
            "top": null,
            "visibility": null,
            "width": null
          }
        },
        "576da439f6a7482fa47fbe5c439f803f": {
          "model_module": "@jupyter-widgets/controls",
          "model_name": "DescriptionStyleModel",
          "model_module_version": "1.5.0",
          "state": {
            "_model_module": "@jupyter-widgets/controls",
            "_model_module_version": "1.5.0",
            "_model_name": "DescriptionStyleModel",
            "_view_count": null,
            "_view_module": "@jupyter-widgets/base",
            "_view_module_version": "1.2.0",
            "_view_name": "StyleView",
            "description_width": ""
          }
        },
        "c55528eec4d843a0b7370067d634e824": {
          "model_module": "@jupyter-widgets/base",
          "model_name": "LayoutModel",
          "model_module_version": "1.2.0",
          "state": {
            "_model_module": "@jupyter-widgets/base",
            "_model_module_version": "1.2.0",
            "_model_name": "LayoutModel",
            "_view_count": null,
            "_view_module": "@jupyter-widgets/base",
            "_view_module_version": "1.2.0",
            "_view_name": "LayoutView",
            "align_content": null,
            "align_items": null,
            "align_self": null,
            "border": null,
            "bottom": null,
            "display": null,
            "flex": null,
            "flex_flow": null,
            "grid_area": null,
            "grid_auto_columns": null,
            "grid_auto_flow": null,
            "grid_auto_rows": null,
            "grid_column": null,
            "grid_gap": null,
            "grid_row": null,
            "grid_template_areas": null,
            "grid_template_columns": null,
            "grid_template_rows": null,
            "height": null,
            "justify_content": null,
            "justify_items": null,
            "left": null,
            "margin": null,
            "max_height": null,
            "max_width": null,
            "min_height": null,
            "min_width": null,
            "object_fit": null,
            "object_position": null,
            "order": null,
            "overflow": null,
            "overflow_x": null,
            "overflow_y": null,
            "padding": null,
            "right": null,
            "top": null,
            "visibility": null,
            "width": null
          }
        },
        "b11ae8b82b9842ed9301e15b3d3de624": {
          "model_module": "@jupyter-widgets/controls",
          "model_name": "ProgressStyleModel",
          "model_module_version": "1.5.0",
          "state": {
            "_model_module": "@jupyter-widgets/controls",
            "_model_module_version": "1.5.0",
            "_model_name": "ProgressStyleModel",
            "_view_count": null,
            "_view_module": "@jupyter-widgets/base",
            "_view_module_version": "1.2.0",
            "_view_name": "StyleView",
            "bar_color": null,
            "description_width": ""
          }
        },
        "510e6673b6e4413f9702d8becab6448f": {
          "model_module": "@jupyter-widgets/base",
          "model_name": "LayoutModel",
          "model_module_version": "1.2.0",
          "state": {
            "_model_module": "@jupyter-widgets/base",
            "_model_module_version": "1.2.0",
            "_model_name": "LayoutModel",
            "_view_count": null,
            "_view_module": "@jupyter-widgets/base",
            "_view_module_version": "1.2.0",
            "_view_name": "LayoutView",
            "align_content": null,
            "align_items": null,
            "align_self": null,
            "border": null,
            "bottom": null,
            "display": null,
            "flex": null,
            "flex_flow": null,
            "grid_area": null,
            "grid_auto_columns": null,
            "grid_auto_flow": null,
            "grid_auto_rows": null,
            "grid_column": null,
            "grid_gap": null,
            "grid_row": null,
            "grid_template_areas": null,
            "grid_template_columns": null,
            "grid_template_rows": null,
            "height": null,
            "justify_content": null,
            "justify_items": null,
            "left": null,
            "margin": null,
            "max_height": null,
            "max_width": null,
            "min_height": null,
            "min_width": null,
            "object_fit": null,
            "object_position": null,
            "order": null,
            "overflow": null,
            "overflow_x": null,
            "overflow_y": null,
            "padding": null,
            "right": null,
            "top": null,
            "visibility": null,
            "width": null
          }
        },
        "91978f6ff2ca4cd9895a5dd44bba5ec0": {
          "model_module": "@jupyter-widgets/controls",
          "model_name": "DescriptionStyleModel",
          "model_module_version": "1.5.0",
          "state": {
            "_model_module": "@jupyter-widgets/controls",
            "_model_module_version": "1.5.0",
            "_model_name": "DescriptionStyleModel",
            "_view_count": null,
            "_view_module": "@jupyter-widgets/base",
            "_view_module_version": "1.2.0",
            "_view_name": "StyleView",
            "description_width": ""
          }
        },
        "9a867574a2c845d68ae05d047b91cc43": {
          "model_module": "@jupyter-widgets/controls",
          "model_name": "HBoxModel",
          "model_module_version": "1.5.0",
          "state": {
            "_dom_classes": [],
            "_model_module": "@jupyter-widgets/controls",
            "_model_module_version": "1.5.0",
            "_model_name": "HBoxModel",
            "_view_count": null,
            "_view_module": "@jupyter-widgets/controls",
            "_view_module_version": "1.5.0",
            "_view_name": "HBoxView",
            "box_style": "",
            "children": [
              "IPY_MODEL_3ec613e4cc5c497ead160013f73a12fb",
              "IPY_MODEL_67fdc3b5b7544e0087c7660561fa28b6",
              "IPY_MODEL_de41c5d996f846e88167b4cc0b20e111"
            ],
            "layout": "IPY_MODEL_d48db891851e4659873e52528850249b"
          }
        },
        "3ec613e4cc5c497ead160013f73a12fb": {
          "model_module": "@jupyter-widgets/controls",
          "model_name": "HTMLModel",
          "model_module_version": "1.5.0",
          "state": {
            "_dom_classes": [],
            "_model_module": "@jupyter-widgets/controls",
            "_model_module_version": "1.5.0",
            "_model_name": "HTMLModel",
            "_view_count": null,
            "_view_module": "@jupyter-widgets/controls",
            "_view_module_version": "1.5.0",
            "_view_name": "HTMLView",
            "description": "",
            "description_tooltip": null,
            "layout": "IPY_MODEL_9485a0e258ad45119023124de47c9cc1",
            "placeholder": "​",
            "style": "IPY_MODEL_2f34f71f53e34295a68b1b2192e1b0e0",
            "value": "Downloading: 100%"
          }
        },
        "67fdc3b5b7544e0087c7660561fa28b6": {
          "model_module": "@jupyter-widgets/controls",
          "model_name": "FloatProgressModel",
          "model_module_version": "1.5.0",
          "state": {
            "_dom_classes": [],
            "_model_module": "@jupyter-widgets/controls",
            "_model_module_version": "1.5.0",
            "_model_name": "FloatProgressModel",
            "_view_count": null,
            "_view_module": "@jupyter-widgets/controls",
            "_view_module_version": "1.5.0",
            "_view_name": "ProgressView",
            "bar_style": "success",
            "description": "",
            "description_tooltip": null,
            "layout": "IPY_MODEL_4a1106c01d144cadb76205a5c4b574c6",
            "max": 1383349812,
            "min": 0,
            "orientation": "horizontal",
            "style": "IPY_MODEL_b192d3a6f16d45cba33ad34b9930f680",
            "value": 1383349812
          }
        },
        "de41c5d996f846e88167b4cc0b20e111": {
          "model_module": "@jupyter-widgets/controls",
          "model_name": "HTMLModel",
          "model_module_version": "1.5.0",
          "state": {
            "_dom_classes": [],
            "_model_module": "@jupyter-widgets/controls",
            "_model_module_version": "1.5.0",
            "_model_name": "HTMLModel",
            "_view_count": null,
            "_view_module": "@jupyter-widgets/controls",
            "_view_module_version": "1.5.0",
            "_view_name": "HTMLView",
            "description": "",
            "description_tooltip": null,
            "layout": "IPY_MODEL_9e15a62190d3413a925f8ef6f8bd6e38",
            "placeholder": "​",
            "style": "IPY_MODEL_5d8e0b8c701f4f708918f7ae98288129",
            "value": " 1.29G/1.29G [00:36&lt;00:00, 38.4MB/s]"
          }
        },
        "d48db891851e4659873e52528850249b": {
          "model_module": "@jupyter-widgets/base",
          "model_name": "LayoutModel",
          "model_module_version": "1.2.0",
          "state": {
            "_model_module": "@jupyter-widgets/base",
            "_model_module_version": "1.2.0",
            "_model_name": "LayoutModel",
            "_view_count": null,
            "_view_module": "@jupyter-widgets/base",
            "_view_module_version": "1.2.0",
            "_view_name": "LayoutView",
            "align_content": null,
            "align_items": null,
            "align_self": null,
            "border": null,
            "bottom": null,
            "display": null,
            "flex": null,
            "flex_flow": null,
            "grid_area": null,
            "grid_auto_columns": null,
            "grid_auto_flow": null,
            "grid_auto_rows": null,
            "grid_column": null,
            "grid_gap": null,
            "grid_row": null,
            "grid_template_areas": null,
            "grid_template_columns": null,
            "grid_template_rows": null,
            "height": null,
            "justify_content": null,
            "justify_items": null,
            "left": null,
            "margin": null,
            "max_height": null,
            "max_width": null,
            "min_height": null,
            "min_width": null,
            "object_fit": null,
            "object_position": null,
            "order": null,
            "overflow": null,
            "overflow_x": null,
            "overflow_y": null,
            "padding": null,
            "right": null,
            "top": null,
            "visibility": null,
            "width": null
          }
        },
        "9485a0e258ad45119023124de47c9cc1": {
          "model_module": "@jupyter-widgets/base",
          "model_name": "LayoutModel",
          "model_module_version": "1.2.0",
          "state": {
            "_model_module": "@jupyter-widgets/base",
            "_model_module_version": "1.2.0",
            "_model_name": "LayoutModel",
            "_view_count": null,
            "_view_module": "@jupyter-widgets/base",
            "_view_module_version": "1.2.0",
            "_view_name": "LayoutView",
            "align_content": null,
            "align_items": null,
            "align_self": null,
            "border": null,
            "bottom": null,
            "display": null,
            "flex": null,
            "flex_flow": null,
            "grid_area": null,
            "grid_auto_columns": null,
            "grid_auto_flow": null,
            "grid_auto_rows": null,
            "grid_column": null,
            "grid_gap": null,
            "grid_row": null,
            "grid_template_areas": null,
            "grid_template_columns": null,
            "grid_template_rows": null,
            "height": null,
            "justify_content": null,
            "justify_items": null,
            "left": null,
            "margin": null,
            "max_height": null,
            "max_width": null,
            "min_height": null,
            "min_width": null,
            "object_fit": null,
            "object_position": null,
            "order": null,
            "overflow": null,
            "overflow_x": null,
            "overflow_y": null,
            "padding": null,
            "right": null,
            "top": null,
            "visibility": null,
            "width": null
          }
        },
        "2f34f71f53e34295a68b1b2192e1b0e0": {
          "model_module": "@jupyter-widgets/controls",
          "model_name": "DescriptionStyleModel",
          "model_module_version": "1.5.0",
          "state": {
            "_model_module": "@jupyter-widgets/controls",
            "_model_module_version": "1.5.0",
            "_model_name": "DescriptionStyleModel",
            "_view_count": null,
            "_view_module": "@jupyter-widgets/base",
            "_view_module_version": "1.2.0",
            "_view_name": "StyleView",
            "description_width": ""
          }
        },
        "4a1106c01d144cadb76205a5c4b574c6": {
          "model_module": "@jupyter-widgets/base",
          "model_name": "LayoutModel",
          "model_module_version": "1.2.0",
          "state": {
            "_model_module": "@jupyter-widgets/base",
            "_model_module_version": "1.2.0",
            "_model_name": "LayoutModel",
            "_view_count": null,
            "_view_module": "@jupyter-widgets/base",
            "_view_module_version": "1.2.0",
            "_view_name": "LayoutView",
            "align_content": null,
            "align_items": null,
            "align_self": null,
            "border": null,
            "bottom": null,
            "display": null,
            "flex": null,
            "flex_flow": null,
            "grid_area": null,
            "grid_auto_columns": null,
            "grid_auto_flow": null,
            "grid_auto_rows": null,
            "grid_column": null,
            "grid_gap": null,
            "grid_row": null,
            "grid_template_areas": null,
            "grid_template_columns": null,
            "grid_template_rows": null,
            "height": null,
            "justify_content": null,
            "justify_items": null,
            "left": null,
            "margin": null,
            "max_height": null,
            "max_width": null,
            "min_height": null,
            "min_width": null,
            "object_fit": null,
            "object_position": null,
            "order": null,
            "overflow": null,
            "overflow_x": null,
            "overflow_y": null,
            "padding": null,
            "right": null,
            "top": null,
            "visibility": null,
            "width": null
          }
        },
        "b192d3a6f16d45cba33ad34b9930f680": {
          "model_module": "@jupyter-widgets/controls",
          "model_name": "ProgressStyleModel",
          "model_module_version": "1.5.0",
          "state": {
            "_model_module": "@jupyter-widgets/controls",
            "_model_module_version": "1.5.0",
            "_model_name": "ProgressStyleModel",
            "_view_count": null,
            "_view_module": "@jupyter-widgets/base",
            "_view_module_version": "1.2.0",
            "_view_name": "StyleView",
            "bar_color": null,
            "description_width": ""
          }
        },
        "9e15a62190d3413a925f8ef6f8bd6e38": {
          "model_module": "@jupyter-widgets/base",
          "model_name": "LayoutModel",
          "model_module_version": "1.2.0",
          "state": {
            "_model_module": "@jupyter-widgets/base",
            "_model_module_version": "1.2.0",
            "_model_name": "LayoutModel",
            "_view_count": null,
            "_view_module": "@jupyter-widgets/base",
            "_view_module_version": "1.2.0",
            "_view_name": "LayoutView",
            "align_content": null,
            "align_items": null,
            "align_self": null,
            "border": null,
            "bottom": null,
            "display": null,
            "flex": null,
            "flex_flow": null,
            "grid_area": null,
            "grid_auto_columns": null,
            "grid_auto_flow": null,
            "grid_auto_rows": null,
            "grid_column": null,
            "grid_gap": null,
            "grid_row": null,
            "grid_template_areas": null,
            "grid_template_columns": null,
            "grid_template_rows": null,
            "height": null,
            "justify_content": null,
            "justify_items": null,
            "left": null,
            "margin": null,
            "max_height": null,
            "max_width": null,
            "min_height": null,
            "min_width": null,
            "object_fit": null,
            "object_position": null,
            "order": null,
            "overflow": null,
            "overflow_x": null,
            "overflow_y": null,
            "padding": null,
            "right": null,
            "top": null,
            "visibility": null,
            "width": null
          }
        },
        "5d8e0b8c701f4f708918f7ae98288129": {
          "model_module": "@jupyter-widgets/controls",
          "model_name": "DescriptionStyleModel",
          "model_module_version": "1.5.0",
          "state": {
            "_model_module": "@jupyter-widgets/controls",
            "_model_module_version": "1.5.0",
            "_model_name": "DescriptionStyleModel",
            "_view_count": null,
            "_view_module": "@jupyter-widgets/base",
            "_view_module_version": "1.2.0",
            "_view_name": "StyleView",
            "description_width": ""
          }
        }
      }
    }
  },
  "nbformat": 4,
  "nbformat_minor": 0
}